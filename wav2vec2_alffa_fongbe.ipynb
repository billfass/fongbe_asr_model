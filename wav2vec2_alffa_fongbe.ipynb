{
  "metadata": {
    "kernelspec": {
      "display_name": "Python 3",
      "name": "python3"
    },
    "language_info": {
      "pygments_lexer": "ipython3",
      "nbconvert_exporter": "python",
      "version": "3.6.4",
      "file_extension": ".py",
      "codemirror_mode": {
        "name": "ipython",
        "version": 3
      },
      "name": "python",
      "mimetype": "text/x-python"
    },
    "colab": {
      "provenance": [],
      "gpuType": "V100"
    },
    "accelerator": "GPU",
    "widgets": {
      "application/vnd.jupyter.widget-state+json": {
        "3b8964be83b3457bb3004a167b0a7004": {
          "model_module": "@jupyter-widgets/controls",
          "model_name": "HBoxModel",
          "model_module_version": "1.5.0",
          "state": {
            "_dom_classes": [],
            "_model_module": "@jupyter-widgets/controls",
            "_model_module_version": "1.5.0",
            "_model_name": "HBoxModel",
            "_view_count": null,
            "_view_module": "@jupyter-widgets/controls",
            "_view_module_version": "1.5.0",
            "_view_name": "HBoxView",
            "box_style": "",
            "children": [
              "IPY_MODEL_c841a2f216574e6c9b98978c3ca01d9f",
              "IPY_MODEL_5db31431f554492db2ce2b2b801ea2ac",
              "IPY_MODEL_e6ef478a8a224da6913012862bc3c893"
            ],
            "layout": "IPY_MODEL_273ccd7af16d41a7b46eca9bc78e4801"
          }
        },
        "c841a2f216574e6c9b98978c3ca01d9f": {
          "model_module": "@jupyter-widgets/controls",
          "model_name": "HTMLModel",
          "model_module_version": "1.5.0",
          "state": {
            "_dom_classes": [],
            "_model_module": "@jupyter-widgets/controls",
            "_model_module_version": "1.5.0",
            "_model_name": "HTMLModel",
            "_view_count": null,
            "_view_module": "@jupyter-widgets/controls",
            "_view_module_version": "1.5.0",
            "_view_name": "HTMLView",
            "description": "",
            "description_tooltip": null,
            "layout": "IPY_MODEL_354ec35135804b80b6ccd1a27b77db57",
            "placeholder": "​",
            "style": "IPY_MODEL_1a9e37a34e2742679fac25c252b36b55",
            "value": "Map: 100%"
          }
        },
        "5db31431f554492db2ce2b2b801ea2ac": {
          "model_module": "@jupyter-widgets/controls",
          "model_name": "FloatProgressModel",
          "model_module_version": "1.5.0",
          "state": {
            "_dom_classes": [],
            "_model_module": "@jupyter-widgets/controls",
            "_model_module_version": "1.5.0",
            "_model_name": "FloatProgressModel",
            "_view_count": null,
            "_view_module": "@jupyter-widgets/controls",
            "_view_module_version": "1.5.0",
            "_view_name": "ProgressView",
            "bar_style": "success",
            "description": "",
            "description_tooltip": null,
            "layout": "IPY_MODEL_e148c8eae1ba4d3ba010df3f8ad6104c",
            "max": 8234,
            "min": 0,
            "orientation": "horizontal",
            "style": "IPY_MODEL_6e2c3ffd6f7140a4a6a55c106e59dc61",
            "value": 8234
          }
        },
        "e6ef478a8a224da6913012862bc3c893": {
          "model_module": "@jupyter-widgets/controls",
          "model_name": "HTMLModel",
          "model_module_version": "1.5.0",
          "state": {
            "_dom_classes": [],
            "_model_module": "@jupyter-widgets/controls",
            "_model_module_version": "1.5.0",
            "_model_name": "HTMLModel",
            "_view_count": null,
            "_view_module": "@jupyter-widgets/controls",
            "_view_module_version": "1.5.0",
            "_view_name": "HTMLView",
            "description": "",
            "description_tooltip": null,
            "layout": "IPY_MODEL_cf1a68556d7d4851a035b3a64a3c63d7",
            "placeholder": "​",
            "style": "IPY_MODEL_0a1a59e9c18a405cb5ee9dbdcf48ab6a",
            "value": " 8234/8234 [00:03&lt;00:00, 2639.42 examples/s]"
          }
        },
        "273ccd7af16d41a7b46eca9bc78e4801": {
          "model_module": "@jupyter-widgets/base",
          "model_name": "LayoutModel",
          "model_module_version": "1.2.0",
          "state": {
            "_model_module": "@jupyter-widgets/base",
            "_model_module_version": "1.2.0",
            "_model_name": "LayoutModel",
            "_view_count": null,
            "_view_module": "@jupyter-widgets/base",
            "_view_module_version": "1.2.0",
            "_view_name": "LayoutView",
            "align_content": null,
            "align_items": null,
            "align_self": null,
            "border": null,
            "bottom": null,
            "display": null,
            "flex": null,
            "flex_flow": null,
            "grid_area": null,
            "grid_auto_columns": null,
            "grid_auto_flow": null,
            "grid_auto_rows": null,
            "grid_column": null,
            "grid_gap": null,
            "grid_row": null,
            "grid_template_areas": null,
            "grid_template_columns": null,
            "grid_template_rows": null,
            "height": null,
            "justify_content": null,
            "justify_items": null,
            "left": null,
            "margin": null,
            "max_height": null,
            "max_width": null,
            "min_height": null,
            "min_width": null,
            "object_fit": null,
            "object_position": null,
            "order": null,
            "overflow": null,
            "overflow_x": null,
            "overflow_y": null,
            "padding": null,
            "right": null,
            "top": null,
            "visibility": null,
            "width": null
          }
        },
        "354ec35135804b80b6ccd1a27b77db57": {
          "model_module": "@jupyter-widgets/base",
          "model_name": "LayoutModel",
          "model_module_version": "1.2.0",
          "state": {
            "_model_module": "@jupyter-widgets/base",
            "_model_module_version": "1.2.0",
            "_model_name": "LayoutModel",
            "_view_count": null,
            "_view_module": "@jupyter-widgets/base",
            "_view_module_version": "1.2.0",
            "_view_name": "LayoutView",
            "align_content": null,
            "align_items": null,
            "align_self": null,
            "border": null,
            "bottom": null,
            "display": null,
            "flex": null,
            "flex_flow": null,
            "grid_area": null,
            "grid_auto_columns": null,
            "grid_auto_flow": null,
            "grid_auto_rows": null,
            "grid_column": null,
            "grid_gap": null,
            "grid_row": null,
            "grid_template_areas": null,
            "grid_template_columns": null,
            "grid_template_rows": null,
            "height": null,
            "justify_content": null,
            "justify_items": null,
            "left": null,
            "margin": null,
            "max_height": null,
            "max_width": null,
            "min_height": null,
            "min_width": null,
            "object_fit": null,
            "object_position": null,
            "order": null,
            "overflow": null,
            "overflow_x": null,
            "overflow_y": null,
            "padding": null,
            "right": null,
            "top": null,
            "visibility": null,
            "width": null
          }
        },
        "1a9e37a34e2742679fac25c252b36b55": {
          "model_module": "@jupyter-widgets/controls",
          "model_name": "DescriptionStyleModel",
          "model_module_version": "1.5.0",
          "state": {
            "_model_module": "@jupyter-widgets/controls",
            "_model_module_version": "1.5.0",
            "_model_name": "DescriptionStyleModel",
            "_view_count": null,
            "_view_module": "@jupyter-widgets/base",
            "_view_module_version": "1.2.0",
            "_view_name": "StyleView",
            "description_width": ""
          }
        },
        "e148c8eae1ba4d3ba010df3f8ad6104c": {
          "model_module": "@jupyter-widgets/base",
          "model_name": "LayoutModel",
          "model_module_version": "1.2.0",
          "state": {
            "_model_module": "@jupyter-widgets/base",
            "_model_module_version": "1.2.0",
            "_model_name": "LayoutModel",
            "_view_count": null,
            "_view_module": "@jupyter-widgets/base",
            "_view_module_version": "1.2.0",
            "_view_name": "LayoutView",
            "align_content": null,
            "align_items": null,
            "align_self": null,
            "border": null,
            "bottom": null,
            "display": null,
            "flex": null,
            "flex_flow": null,
            "grid_area": null,
            "grid_auto_columns": null,
            "grid_auto_flow": null,
            "grid_auto_rows": null,
            "grid_column": null,
            "grid_gap": null,
            "grid_row": null,
            "grid_template_areas": null,
            "grid_template_columns": null,
            "grid_template_rows": null,
            "height": null,
            "justify_content": null,
            "justify_items": null,
            "left": null,
            "margin": null,
            "max_height": null,
            "max_width": null,
            "min_height": null,
            "min_width": null,
            "object_fit": null,
            "object_position": null,
            "order": null,
            "overflow": null,
            "overflow_x": null,
            "overflow_y": null,
            "padding": null,
            "right": null,
            "top": null,
            "visibility": null,
            "width": null
          }
        },
        "6e2c3ffd6f7140a4a6a55c106e59dc61": {
          "model_module": "@jupyter-widgets/controls",
          "model_name": "ProgressStyleModel",
          "model_module_version": "1.5.0",
          "state": {
            "_model_module": "@jupyter-widgets/controls",
            "_model_module_version": "1.5.0",
            "_model_name": "ProgressStyleModel",
            "_view_count": null,
            "_view_module": "@jupyter-widgets/base",
            "_view_module_version": "1.2.0",
            "_view_name": "StyleView",
            "bar_color": null,
            "description_width": ""
          }
        },
        "cf1a68556d7d4851a035b3a64a3c63d7": {
          "model_module": "@jupyter-widgets/base",
          "model_name": "LayoutModel",
          "model_module_version": "1.2.0",
          "state": {
            "_model_module": "@jupyter-widgets/base",
            "_model_module_version": "1.2.0",
            "_model_name": "LayoutModel",
            "_view_count": null,
            "_view_module": "@jupyter-widgets/base",
            "_view_module_version": "1.2.0",
            "_view_name": "LayoutView",
            "align_content": null,
            "align_items": null,
            "align_self": null,
            "border": null,
            "bottom": null,
            "display": null,
            "flex": null,
            "flex_flow": null,
            "grid_area": null,
            "grid_auto_columns": null,
            "grid_auto_flow": null,
            "grid_auto_rows": null,
            "grid_column": null,
            "grid_gap": null,
            "grid_row": null,
            "grid_template_areas": null,
            "grid_template_columns": null,
            "grid_template_rows": null,
            "height": null,
            "justify_content": null,
            "justify_items": null,
            "left": null,
            "margin": null,
            "max_height": null,
            "max_width": null,
            "min_height": null,
            "min_width": null,
            "object_fit": null,
            "object_position": null,
            "order": null,
            "overflow": null,
            "overflow_x": null,
            "overflow_y": null,
            "padding": null,
            "right": null,
            "top": null,
            "visibility": null,
            "width": null
          }
        },
        "0a1a59e9c18a405cb5ee9dbdcf48ab6a": {
          "model_module": "@jupyter-widgets/controls",
          "model_name": "DescriptionStyleModel",
          "model_module_version": "1.5.0",
          "state": {
            "_model_module": "@jupyter-widgets/controls",
            "_model_module_version": "1.5.0",
            "_model_name": "DescriptionStyleModel",
            "_view_count": null,
            "_view_module": "@jupyter-widgets/base",
            "_view_module_version": "1.2.0",
            "_view_name": "StyleView",
            "description_width": ""
          }
        },
        "8dc55cd28f0140759b91846601ba3d6f": {
          "model_module": "@jupyter-widgets/controls",
          "model_name": "HBoxModel",
          "model_module_version": "1.5.0",
          "state": {
            "_dom_classes": [],
            "_model_module": "@jupyter-widgets/controls",
            "_model_module_version": "1.5.0",
            "_model_name": "HBoxModel",
            "_view_count": null,
            "_view_module": "@jupyter-widgets/controls",
            "_view_module_version": "1.5.0",
            "_view_name": "HBoxView",
            "box_style": "",
            "children": [
              "IPY_MODEL_75000c74641a417e931a392296aaf525",
              "IPY_MODEL_914b0644ac734337a70e465741a6c175",
              "IPY_MODEL_55c7aede9a6842dd86f878a89f764669"
            ],
            "layout": "IPY_MODEL_f6c00749a0c040dd98dbd6f37abd064c"
          }
        },
        "75000c74641a417e931a392296aaf525": {
          "model_module": "@jupyter-widgets/controls",
          "model_name": "HTMLModel",
          "model_module_version": "1.5.0",
          "state": {
            "_dom_classes": [],
            "_model_module": "@jupyter-widgets/controls",
            "_model_module_version": "1.5.0",
            "_model_name": "HTMLModel",
            "_view_count": null,
            "_view_module": "@jupyter-widgets/controls",
            "_view_module_version": "1.5.0",
            "_view_name": "HTMLView",
            "description": "",
            "description_tooltip": null,
            "layout": "IPY_MODEL_d77be1758c314dddafcb58f1f3a30ad8",
            "placeholder": "​",
            "style": "IPY_MODEL_2210c3808b574b2a8650f5e8a48d9973",
            "value": "Map: 100%"
          }
        },
        "914b0644ac734337a70e465741a6c175": {
          "model_module": "@jupyter-widgets/controls",
          "model_name": "FloatProgressModel",
          "model_module_version": "1.5.0",
          "state": {
            "_dom_classes": [],
            "_model_module": "@jupyter-widgets/controls",
            "_model_module_version": "1.5.0",
            "_model_name": "FloatProgressModel",
            "_view_count": null,
            "_view_module": "@jupyter-widgets/controls",
            "_view_module_version": "1.5.0",
            "_view_name": "ProgressView",
            "bar_style": "success",
            "description": "",
            "description_tooltip": null,
            "layout": "IPY_MODEL_d90f0b0e89a343a8a387fba724d99fb1",
            "max": 2168,
            "min": 0,
            "orientation": "horizontal",
            "style": "IPY_MODEL_0b6eac7f45a043bda54e2a44001506b7",
            "value": 2168
          }
        },
        "55c7aede9a6842dd86f878a89f764669": {
          "model_module": "@jupyter-widgets/controls",
          "model_name": "HTMLModel",
          "model_module_version": "1.5.0",
          "state": {
            "_dom_classes": [],
            "_model_module": "@jupyter-widgets/controls",
            "_model_module_version": "1.5.0",
            "_model_name": "HTMLModel",
            "_view_count": null,
            "_view_module": "@jupyter-widgets/controls",
            "_view_module_version": "1.5.0",
            "_view_name": "HTMLView",
            "description": "",
            "description_tooltip": null,
            "layout": "IPY_MODEL_38a3fb4d6a7c4e1d8f88e1b3e4f47603",
            "placeholder": "​",
            "style": "IPY_MODEL_54779ff74df44907b14794ed0186990a",
            "value": " 2168/2168 [00:00&lt;00:00, 4421.57 examples/s]"
          }
        },
        "f6c00749a0c040dd98dbd6f37abd064c": {
          "model_module": "@jupyter-widgets/base",
          "model_name": "LayoutModel",
          "model_module_version": "1.2.0",
          "state": {
            "_model_module": "@jupyter-widgets/base",
            "_model_module_version": "1.2.0",
            "_model_name": "LayoutModel",
            "_view_count": null,
            "_view_module": "@jupyter-widgets/base",
            "_view_module_version": "1.2.0",
            "_view_name": "LayoutView",
            "align_content": null,
            "align_items": null,
            "align_self": null,
            "border": null,
            "bottom": null,
            "display": null,
            "flex": null,
            "flex_flow": null,
            "grid_area": null,
            "grid_auto_columns": null,
            "grid_auto_flow": null,
            "grid_auto_rows": null,
            "grid_column": null,
            "grid_gap": null,
            "grid_row": null,
            "grid_template_areas": null,
            "grid_template_columns": null,
            "grid_template_rows": null,
            "height": null,
            "justify_content": null,
            "justify_items": null,
            "left": null,
            "margin": null,
            "max_height": null,
            "max_width": null,
            "min_height": null,
            "min_width": null,
            "object_fit": null,
            "object_position": null,
            "order": null,
            "overflow": null,
            "overflow_x": null,
            "overflow_y": null,
            "padding": null,
            "right": null,
            "top": null,
            "visibility": null,
            "width": null
          }
        },
        "d77be1758c314dddafcb58f1f3a30ad8": {
          "model_module": "@jupyter-widgets/base",
          "model_name": "LayoutModel",
          "model_module_version": "1.2.0",
          "state": {
            "_model_module": "@jupyter-widgets/base",
            "_model_module_version": "1.2.0",
            "_model_name": "LayoutModel",
            "_view_count": null,
            "_view_module": "@jupyter-widgets/base",
            "_view_module_version": "1.2.0",
            "_view_name": "LayoutView",
            "align_content": null,
            "align_items": null,
            "align_self": null,
            "border": null,
            "bottom": null,
            "display": null,
            "flex": null,
            "flex_flow": null,
            "grid_area": null,
            "grid_auto_columns": null,
            "grid_auto_flow": null,
            "grid_auto_rows": null,
            "grid_column": null,
            "grid_gap": null,
            "grid_row": null,
            "grid_template_areas": null,
            "grid_template_columns": null,
            "grid_template_rows": null,
            "height": null,
            "justify_content": null,
            "justify_items": null,
            "left": null,
            "margin": null,
            "max_height": null,
            "max_width": null,
            "min_height": null,
            "min_width": null,
            "object_fit": null,
            "object_position": null,
            "order": null,
            "overflow": null,
            "overflow_x": null,
            "overflow_y": null,
            "padding": null,
            "right": null,
            "top": null,
            "visibility": null,
            "width": null
          }
        },
        "2210c3808b574b2a8650f5e8a48d9973": {
          "model_module": "@jupyter-widgets/controls",
          "model_name": "DescriptionStyleModel",
          "model_module_version": "1.5.0",
          "state": {
            "_model_module": "@jupyter-widgets/controls",
            "_model_module_version": "1.5.0",
            "_model_name": "DescriptionStyleModel",
            "_view_count": null,
            "_view_module": "@jupyter-widgets/base",
            "_view_module_version": "1.2.0",
            "_view_name": "StyleView",
            "description_width": ""
          }
        },
        "d90f0b0e89a343a8a387fba724d99fb1": {
          "model_module": "@jupyter-widgets/base",
          "model_name": "LayoutModel",
          "model_module_version": "1.2.0",
          "state": {
            "_model_module": "@jupyter-widgets/base",
            "_model_module_version": "1.2.0",
            "_model_name": "LayoutModel",
            "_view_count": null,
            "_view_module": "@jupyter-widgets/base",
            "_view_module_version": "1.2.0",
            "_view_name": "LayoutView",
            "align_content": null,
            "align_items": null,
            "align_self": null,
            "border": null,
            "bottom": null,
            "display": null,
            "flex": null,
            "flex_flow": null,
            "grid_area": null,
            "grid_auto_columns": null,
            "grid_auto_flow": null,
            "grid_auto_rows": null,
            "grid_column": null,
            "grid_gap": null,
            "grid_row": null,
            "grid_template_areas": null,
            "grid_template_columns": null,
            "grid_template_rows": null,
            "height": null,
            "justify_content": null,
            "justify_items": null,
            "left": null,
            "margin": null,
            "max_height": null,
            "max_width": null,
            "min_height": null,
            "min_width": null,
            "object_fit": null,
            "object_position": null,
            "order": null,
            "overflow": null,
            "overflow_x": null,
            "overflow_y": null,
            "padding": null,
            "right": null,
            "top": null,
            "visibility": null,
            "width": null
          }
        },
        "0b6eac7f45a043bda54e2a44001506b7": {
          "model_module": "@jupyter-widgets/controls",
          "model_name": "ProgressStyleModel",
          "model_module_version": "1.5.0",
          "state": {
            "_model_module": "@jupyter-widgets/controls",
            "_model_module_version": "1.5.0",
            "_model_name": "ProgressStyleModel",
            "_view_count": null,
            "_view_module": "@jupyter-widgets/base",
            "_view_module_version": "1.2.0",
            "_view_name": "StyleView",
            "bar_color": null,
            "description_width": ""
          }
        },
        "38a3fb4d6a7c4e1d8f88e1b3e4f47603": {
          "model_module": "@jupyter-widgets/base",
          "model_name": "LayoutModel",
          "model_module_version": "1.2.0",
          "state": {
            "_model_module": "@jupyter-widgets/base",
            "_model_module_version": "1.2.0",
            "_model_name": "LayoutModel",
            "_view_count": null,
            "_view_module": "@jupyter-widgets/base",
            "_view_module_version": "1.2.0",
            "_view_name": "LayoutView",
            "align_content": null,
            "align_items": null,
            "align_self": null,
            "border": null,
            "bottom": null,
            "display": null,
            "flex": null,
            "flex_flow": null,
            "grid_area": null,
            "grid_auto_columns": null,
            "grid_auto_flow": null,
            "grid_auto_rows": null,
            "grid_column": null,
            "grid_gap": null,
            "grid_row": null,
            "grid_template_areas": null,
            "grid_template_columns": null,
            "grid_template_rows": null,
            "height": null,
            "justify_content": null,
            "justify_items": null,
            "left": null,
            "margin": null,
            "max_height": null,
            "max_width": null,
            "min_height": null,
            "min_width": null,
            "object_fit": null,
            "object_position": null,
            "order": null,
            "overflow": null,
            "overflow_x": null,
            "overflow_y": null,
            "padding": null,
            "right": null,
            "top": null,
            "visibility": null,
            "width": null
          }
        },
        "54779ff74df44907b14794ed0186990a": {
          "model_module": "@jupyter-widgets/controls",
          "model_name": "DescriptionStyleModel",
          "model_module_version": "1.5.0",
          "state": {
            "_model_module": "@jupyter-widgets/controls",
            "_model_module_version": "1.5.0",
            "_model_name": "DescriptionStyleModel",
            "_view_count": null,
            "_view_module": "@jupyter-widgets/base",
            "_view_module_version": "1.2.0",
            "_view_name": "StyleView",
            "description_width": ""
          }
        },
        "043e54d2c0a34ef384b3091a18503eb4": {
          "model_module": "@jupyter-widgets/controls",
          "model_name": "HBoxModel",
          "model_module_version": "1.5.0",
          "state": {
            "_dom_classes": [],
            "_model_module": "@jupyter-widgets/controls",
            "_model_module_version": "1.5.0",
            "_model_name": "HBoxModel",
            "_view_count": null,
            "_view_module": "@jupyter-widgets/controls",
            "_view_module_version": "1.5.0",
            "_view_name": "HBoxView",
            "box_style": "",
            "children": [
              "IPY_MODEL_86020974017f4753ba34b3d2450a13fc",
              "IPY_MODEL_be279b0ff5654e028d585406f78a43ef",
              "IPY_MODEL_b929e6e545174105acfa9d0026ce90ff"
            ],
            "layout": "IPY_MODEL_3fdd493975804fa5abc081d5542c17d1"
          }
        },
        "86020974017f4753ba34b3d2450a13fc": {
          "model_module": "@jupyter-widgets/controls",
          "model_name": "HTMLModel",
          "model_module_version": "1.5.0",
          "state": {
            "_dom_classes": [],
            "_model_module": "@jupyter-widgets/controls",
            "_model_module_version": "1.5.0",
            "_model_name": "HTMLModel",
            "_view_count": null,
            "_view_module": "@jupyter-widgets/controls",
            "_view_module_version": "1.5.0",
            "_view_name": "HTMLView",
            "description": "",
            "description_tooltip": null,
            "layout": "IPY_MODEL_c59284dac06f4ca0b7ef0e5f45ba57cd",
            "placeholder": "​",
            "style": "IPY_MODEL_f94cb9949a0a4297b47687838b310bc5",
            "value": "Map: 100%"
          }
        },
        "be279b0ff5654e028d585406f78a43ef": {
          "model_module": "@jupyter-widgets/controls",
          "model_name": "FloatProgressModel",
          "model_module_version": "1.5.0",
          "state": {
            "_dom_classes": [],
            "_model_module": "@jupyter-widgets/controls",
            "_model_module_version": "1.5.0",
            "_model_name": "FloatProgressModel",
            "_view_count": null,
            "_view_module": "@jupyter-widgets/controls",
            "_view_module_version": "1.5.0",
            "_view_name": "ProgressView",
            "bar_style": "success",
            "description": "",
            "description_tooltip": null,
            "layout": "IPY_MODEL_f308884afe784758a8bd5e877c0118c0",
            "max": 8234,
            "min": 0,
            "orientation": "horizontal",
            "style": "IPY_MODEL_a631c4525e4f4a6aa69adfb30ad9a248",
            "value": 8234
          }
        },
        "b929e6e545174105acfa9d0026ce90ff": {
          "model_module": "@jupyter-widgets/controls",
          "model_name": "HTMLModel",
          "model_module_version": "1.5.0",
          "state": {
            "_dom_classes": [],
            "_model_module": "@jupyter-widgets/controls",
            "_model_module_version": "1.5.0",
            "_model_name": "HTMLModel",
            "_view_count": null,
            "_view_module": "@jupyter-widgets/controls",
            "_view_module_version": "1.5.0",
            "_view_name": "HTMLView",
            "description": "",
            "description_tooltip": null,
            "layout": "IPY_MODEL_a9c141282c874b7f906f7ea3de5022ec",
            "placeholder": "​",
            "style": "IPY_MODEL_4c89dab4276745aa93a2927afc77247c",
            "value": " 8234/8234 [00:00&lt;00:00, 12579.07 examples/s]"
          }
        },
        "3fdd493975804fa5abc081d5542c17d1": {
          "model_module": "@jupyter-widgets/base",
          "model_name": "LayoutModel",
          "model_module_version": "1.2.0",
          "state": {
            "_model_module": "@jupyter-widgets/base",
            "_model_module_version": "1.2.0",
            "_model_name": "LayoutModel",
            "_view_count": null,
            "_view_module": "@jupyter-widgets/base",
            "_view_module_version": "1.2.0",
            "_view_name": "LayoutView",
            "align_content": null,
            "align_items": null,
            "align_self": null,
            "border": null,
            "bottom": null,
            "display": null,
            "flex": null,
            "flex_flow": null,
            "grid_area": null,
            "grid_auto_columns": null,
            "grid_auto_flow": null,
            "grid_auto_rows": null,
            "grid_column": null,
            "grid_gap": null,
            "grid_row": null,
            "grid_template_areas": null,
            "grid_template_columns": null,
            "grid_template_rows": null,
            "height": null,
            "justify_content": null,
            "justify_items": null,
            "left": null,
            "margin": null,
            "max_height": null,
            "max_width": null,
            "min_height": null,
            "min_width": null,
            "object_fit": null,
            "object_position": null,
            "order": null,
            "overflow": null,
            "overflow_x": null,
            "overflow_y": null,
            "padding": null,
            "right": null,
            "top": null,
            "visibility": null,
            "width": null
          }
        },
        "c59284dac06f4ca0b7ef0e5f45ba57cd": {
          "model_module": "@jupyter-widgets/base",
          "model_name": "LayoutModel",
          "model_module_version": "1.2.0",
          "state": {
            "_model_module": "@jupyter-widgets/base",
            "_model_module_version": "1.2.0",
            "_model_name": "LayoutModel",
            "_view_count": null,
            "_view_module": "@jupyter-widgets/base",
            "_view_module_version": "1.2.0",
            "_view_name": "LayoutView",
            "align_content": null,
            "align_items": null,
            "align_self": null,
            "border": null,
            "bottom": null,
            "display": null,
            "flex": null,
            "flex_flow": null,
            "grid_area": null,
            "grid_auto_columns": null,
            "grid_auto_flow": null,
            "grid_auto_rows": null,
            "grid_column": null,
            "grid_gap": null,
            "grid_row": null,
            "grid_template_areas": null,
            "grid_template_columns": null,
            "grid_template_rows": null,
            "height": null,
            "justify_content": null,
            "justify_items": null,
            "left": null,
            "margin": null,
            "max_height": null,
            "max_width": null,
            "min_height": null,
            "min_width": null,
            "object_fit": null,
            "object_position": null,
            "order": null,
            "overflow": null,
            "overflow_x": null,
            "overflow_y": null,
            "padding": null,
            "right": null,
            "top": null,
            "visibility": null,
            "width": null
          }
        },
        "f94cb9949a0a4297b47687838b310bc5": {
          "model_module": "@jupyter-widgets/controls",
          "model_name": "DescriptionStyleModel",
          "model_module_version": "1.5.0",
          "state": {
            "_model_module": "@jupyter-widgets/controls",
            "_model_module_version": "1.5.0",
            "_model_name": "DescriptionStyleModel",
            "_view_count": null,
            "_view_module": "@jupyter-widgets/base",
            "_view_module_version": "1.2.0",
            "_view_name": "StyleView",
            "description_width": ""
          }
        },
        "f308884afe784758a8bd5e877c0118c0": {
          "model_module": "@jupyter-widgets/base",
          "model_name": "LayoutModel",
          "model_module_version": "1.2.0",
          "state": {
            "_model_module": "@jupyter-widgets/base",
            "_model_module_version": "1.2.0",
            "_model_name": "LayoutModel",
            "_view_count": null,
            "_view_module": "@jupyter-widgets/base",
            "_view_module_version": "1.2.0",
            "_view_name": "LayoutView",
            "align_content": null,
            "align_items": null,
            "align_self": null,
            "border": null,
            "bottom": null,
            "display": null,
            "flex": null,
            "flex_flow": null,
            "grid_area": null,
            "grid_auto_columns": null,
            "grid_auto_flow": null,
            "grid_auto_rows": null,
            "grid_column": null,
            "grid_gap": null,
            "grid_row": null,
            "grid_template_areas": null,
            "grid_template_columns": null,
            "grid_template_rows": null,
            "height": null,
            "justify_content": null,
            "justify_items": null,
            "left": null,
            "margin": null,
            "max_height": null,
            "max_width": null,
            "min_height": null,
            "min_width": null,
            "object_fit": null,
            "object_position": null,
            "order": null,
            "overflow": null,
            "overflow_x": null,
            "overflow_y": null,
            "padding": null,
            "right": null,
            "top": null,
            "visibility": null,
            "width": null
          }
        },
        "a631c4525e4f4a6aa69adfb30ad9a248": {
          "model_module": "@jupyter-widgets/controls",
          "model_name": "ProgressStyleModel",
          "model_module_version": "1.5.0",
          "state": {
            "_model_module": "@jupyter-widgets/controls",
            "_model_module_version": "1.5.0",
            "_model_name": "ProgressStyleModel",
            "_view_count": null,
            "_view_module": "@jupyter-widgets/base",
            "_view_module_version": "1.2.0",
            "_view_name": "StyleView",
            "bar_color": null,
            "description_width": ""
          }
        },
        "a9c141282c874b7f906f7ea3de5022ec": {
          "model_module": "@jupyter-widgets/base",
          "model_name": "LayoutModel",
          "model_module_version": "1.2.0",
          "state": {
            "_model_module": "@jupyter-widgets/base",
            "_model_module_version": "1.2.0",
            "_model_name": "LayoutModel",
            "_view_count": null,
            "_view_module": "@jupyter-widgets/base",
            "_view_module_version": "1.2.0",
            "_view_name": "LayoutView",
            "align_content": null,
            "align_items": null,
            "align_self": null,
            "border": null,
            "bottom": null,
            "display": null,
            "flex": null,
            "flex_flow": null,
            "grid_area": null,
            "grid_auto_columns": null,
            "grid_auto_flow": null,
            "grid_auto_rows": null,
            "grid_column": null,
            "grid_gap": null,
            "grid_row": null,
            "grid_template_areas": null,
            "grid_template_columns": null,
            "grid_template_rows": null,
            "height": null,
            "justify_content": null,
            "justify_items": null,
            "left": null,
            "margin": null,
            "max_height": null,
            "max_width": null,
            "min_height": null,
            "min_width": null,
            "object_fit": null,
            "object_position": null,
            "order": null,
            "overflow": null,
            "overflow_x": null,
            "overflow_y": null,
            "padding": null,
            "right": null,
            "top": null,
            "visibility": null,
            "width": null
          }
        },
        "4c89dab4276745aa93a2927afc77247c": {
          "model_module": "@jupyter-widgets/controls",
          "model_name": "DescriptionStyleModel",
          "model_module_version": "1.5.0",
          "state": {
            "_model_module": "@jupyter-widgets/controls",
            "_model_module_version": "1.5.0",
            "_model_name": "DescriptionStyleModel",
            "_view_count": null,
            "_view_module": "@jupyter-widgets/base",
            "_view_module_version": "1.2.0",
            "_view_name": "StyleView",
            "description_width": ""
          }
        },
        "818268452cc741ff87528a729a4c4a2a": {
          "model_module": "@jupyter-widgets/controls",
          "model_name": "HBoxModel",
          "model_module_version": "1.5.0",
          "state": {
            "_dom_classes": [],
            "_model_module": "@jupyter-widgets/controls",
            "_model_module_version": "1.5.0",
            "_model_name": "HBoxModel",
            "_view_count": null,
            "_view_module": "@jupyter-widgets/controls",
            "_view_module_version": "1.5.0",
            "_view_name": "HBoxView",
            "box_style": "",
            "children": [
              "IPY_MODEL_e7df1b45e5c54888a92e14ce24ef2cec",
              "IPY_MODEL_a16deade21054996b5bd5b2888a3cabf",
              "IPY_MODEL_08dbc50862eb491e9320b4a9a85ba314"
            ],
            "layout": "IPY_MODEL_3179e23e56a74e4ca9b5006141eec4de"
          }
        },
        "e7df1b45e5c54888a92e14ce24ef2cec": {
          "model_module": "@jupyter-widgets/controls",
          "model_name": "HTMLModel",
          "model_module_version": "1.5.0",
          "state": {
            "_dom_classes": [],
            "_model_module": "@jupyter-widgets/controls",
            "_model_module_version": "1.5.0",
            "_model_name": "HTMLModel",
            "_view_count": null,
            "_view_module": "@jupyter-widgets/controls",
            "_view_module_version": "1.5.0",
            "_view_name": "HTMLView",
            "description": "",
            "description_tooltip": null,
            "layout": "IPY_MODEL_8a8ee9ce00b644c2bf783e419632a2b5",
            "placeholder": "​",
            "style": "IPY_MODEL_84ecbc29e142499296103245bbb9464b",
            "value": "Map: 100%"
          }
        },
        "a16deade21054996b5bd5b2888a3cabf": {
          "model_module": "@jupyter-widgets/controls",
          "model_name": "FloatProgressModel",
          "model_module_version": "1.5.0",
          "state": {
            "_dom_classes": [],
            "_model_module": "@jupyter-widgets/controls",
            "_model_module_version": "1.5.0",
            "_model_name": "FloatProgressModel",
            "_view_count": null,
            "_view_module": "@jupyter-widgets/controls",
            "_view_module_version": "1.5.0",
            "_view_name": "ProgressView",
            "bar_style": "success",
            "description": "",
            "description_tooltip": null,
            "layout": "IPY_MODEL_283ee9c443624dcea0b041d30d03b473",
            "max": 2168,
            "min": 0,
            "orientation": "horizontal",
            "style": "IPY_MODEL_581441f22a884f5384d98b95a4ce9ab3",
            "value": 2168
          }
        },
        "08dbc50862eb491e9320b4a9a85ba314": {
          "model_module": "@jupyter-widgets/controls",
          "model_name": "HTMLModel",
          "model_module_version": "1.5.0",
          "state": {
            "_dom_classes": [],
            "_model_module": "@jupyter-widgets/controls",
            "_model_module_version": "1.5.0",
            "_model_name": "HTMLModel",
            "_view_count": null,
            "_view_module": "@jupyter-widgets/controls",
            "_view_module_version": "1.5.0",
            "_view_name": "HTMLView",
            "description": "",
            "description_tooltip": null,
            "layout": "IPY_MODEL_fa9e1b09e63047b8b1b131fbdf636f32",
            "placeholder": "​",
            "style": "IPY_MODEL_1f5251c36fef4534aad06eea8e64aa42",
            "value": " 2168/2168 [00:00&lt;00:00, 30194.29 examples/s]"
          }
        },
        "3179e23e56a74e4ca9b5006141eec4de": {
          "model_module": "@jupyter-widgets/base",
          "model_name": "LayoutModel",
          "model_module_version": "1.2.0",
          "state": {
            "_model_module": "@jupyter-widgets/base",
            "_model_module_version": "1.2.0",
            "_model_name": "LayoutModel",
            "_view_count": null,
            "_view_module": "@jupyter-widgets/base",
            "_view_module_version": "1.2.0",
            "_view_name": "LayoutView",
            "align_content": null,
            "align_items": null,
            "align_self": null,
            "border": null,
            "bottom": null,
            "display": null,
            "flex": null,
            "flex_flow": null,
            "grid_area": null,
            "grid_auto_columns": null,
            "grid_auto_flow": null,
            "grid_auto_rows": null,
            "grid_column": null,
            "grid_gap": null,
            "grid_row": null,
            "grid_template_areas": null,
            "grid_template_columns": null,
            "grid_template_rows": null,
            "height": null,
            "justify_content": null,
            "justify_items": null,
            "left": null,
            "margin": null,
            "max_height": null,
            "max_width": null,
            "min_height": null,
            "min_width": null,
            "object_fit": null,
            "object_position": null,
            "order": null,
            "overflow": null,
            "overflow_x": null,
            "overflow_y": null,
            "padding": null,
            "right": null,
            "top": null,
            "visibility": null,
            "width": null
          }
        },
        "8a8ee9ce00b644c2bf783e419632a2b5": {
          "model_module": "@jupyter-widgets/base",
          "model_name": "LayoutModel",
          "model_module_version": "1.2.0",
          "state": {
            "_model_module": "@jupyter-widgets/base",
            "_model_module_version": "1.2.0",
            "_model_name": "LayoutModel",
            "_view_count": null,
            "_view_module": "@jupyter-widgets/base",
            "_view_module_version": "1.2.0",
            "_view_name": "LayoutView",
            "align_content": null,
            "align_items": null,
            "align_self": null,
            "border": null,
            "bottom": null,
            "display": null,
            "flex": null,
            "flex_flow": null,
            "grid_area": null,
            "grid_auto_columns": null,
            "grid_auto_flow": null,
            "grid_auto_rows": null,
            "grid_column": null,
            "grid_gap": null,
            "grid_row": null,
            "grid_template_areas": null,
            "grid_template_columns": null,
            "grid_template_rows": null,
            "height": null,
            "justify_content": null,
            "justify_items": null,
            "left": null,
            "margin": null,
            "max_height": null,
            "max_width": null,
            "min_height": null,
            "min_width": null,
            "object_fit": null,
            "object_position": null,
            "order": null,
            "overflow": null,
            "overflow_x": null,
            "overflow_y": null,
            "padding": null,
            "right": null,
            "top": null,
            "visibility": null,
            "width": null
          }
        },
        "84ecbc29e142499296103245bbb9464b": {
          "model_module": "@jupyter-widgets/controls",
          "model_name": "DescriptionStyleModel",
          "model_module_version": "1.5.0",
          "state": {
            "_model_module": "@jupyter-widgets/controls",
            "_model_module_version": "1.5.0",
            "_model_name": "DescriptionStyleModel",
            "_view_count": null,
            "_view_module": "@jupyter-widgets/base",
            "_view_module_version": "1.2.0",
            "_view_name": "StyleView",
            "description_width": ""
          }
        },
        "283ee9c443624dcea0b041d30d03b473": {
          "model_module": "@jupyter-widgets/base",
          "model_name": "LayoutModel",
          "model_module_version": "1.2.0",
          "state": {
            "_model_module": "@jupyter-widgets/base",
            "_model_module_version": "1.2.0",
            "_model_name": "LayoutModel",
            "_view_count": null,
            "_view_module": "@jupyter-widgets/base",
            "_view_module_version": "1.2.0",
            "_view_name": "LayoutView",
            "align_content": null,
            "align_items": null,
            "align_self": null,
            "border": null,
            "bottom": null,
            "display": null,
            "flex": null,
            "flex_flow": null,
            "grid_area": null,
            "grid_auto_columns": null,
            "grid_auto_flow": null,
            "grid_auto_rows": null,
            "grid_column": null,
            "grid_gap": null,
            "grid_row": null,
            "grid_template_areas": null,
            "grid_template_columns": null,
            "grid_template_rows": null,
            "height": null,
            "justify_content": null,
            "justify_items": null,
            "left": null,
            "margin": null,
            "max_height": null,
            "max_width": null,
            "min_height": null,
            "min_width": null,
            "object_fit": null,
            "object_position": null,
            "order": null,
            "overflow": null,
            "overflow_x": null,
            "overflow_y": null,
            "padding": null,
            "right": null,
            "top": null,
            "visibility": null,
            "width": null
          }
        },
        "581441f22a884f5384d98b95a4ce9ab3": {
          "model_module": "@jupyter-widgets/controls",
          "model_name": "ProgressStyleModel",
          "model_module_version": "1.5.0",
          "state": {
            "_model_module": "@jupyter-widgets/controls",
            "_model_module_version": "1.5.0",
            "_model_name": "ProgressStyleModel",
            "_view_count": null,
            "_view_module": "@jupyter-widgets/base",
            "_view_module_version": "1.2.0",
            "_view_name": "StyleView",
            "bar_color": null,
            "description_width": ""
          }
        },
        "fa9e1b09e63047b8b1b131fbdf636f32": {
          "model_module": "@jupyter-widgets/base",
          "model_name": "LayoutModel",
          "model_module_version": "1.2.0",
          "state": {
            "_model_module": "@jupyter-widgets/base",
            "_model_module_version": "1.2.0",
            "_model_name": "LayoutModel",
            "_view_count": null,
            "_view_module": "@jupyter-widgets/base",
            "_view_module_version": "1.2.0",
            "_view_name": "LayoutView",
            "align_content": null,
            "align_items": null,
            "align_self": null,
            "border": null,
            "bottom": null,
            "display": null,
            "flex": null,
            "flex_flow": null,
            "grid_area": null,
            "grid_auto_columns": null,
            "grid_auto_flow": null,
            "grid_auto_rows": null,
            "grid_column": null,
            "grid_gap": null,
            "grid_row": null,
            "grid_template_areas": null,
            "grid_template_columns": null,
            "grid_template_rows": null,
            "height": null,
            "justify_content": null,
            "justify_items": null,
            "left": null,
            "margin": null,
            "max_height": null,
            "max_width": null,
            "min_height": null,
            "min_width": null,
            "object_fit": null,
            "object_position": null,
            "order": null,
            "overflow": null,
            "overflow_x": null,
            "overflow_y": null,
            "padding": null,
            "right": null,
            "top": null,
            "visibility": null,
            "width": null
          }
        },
        "1f5251c36fef4534aad06eea8e64aa42": {
          "model_module": "@jupyter-widgets/controls",
          "model_name": "DescriptionStyleModel",
          "model_module_version": "1.5.0",
          "state": {
            "_model_module": "@jupyter-widgets/controls",
            "_model_module_version": "1.5.0",
            "_model_name": "DescriptionStyleModel",
            "_view_count": null,
            "_view_module": "@jupyter-widgets/base",
            "_view_module_version": "1.2.0",
            "_view_name": "StyleView",
            "description_width": ""
          }
        },
        "c122bf0562c14683afa061a32f0ef0f3": {
          "model_module": "@jupyter-widgets/controls",
          "model_name": "HBoxModel",
          "model_module_version": "1.5.0",
          "state": {
            "_dom_classes": [],
            "_model_module": "@jupyter-widgets/controls",
            "_model_module_version": "1.5.0",
            "_model_name": "HBoxModel",
            "_view_count": null,
            "_view_module": "@jupyter-widgets/controls",
            "_view_module_version": "1.5.0",
            "_view_name": "HBoxView",
            "box_style": "",
            "children": [
              "IPY_MODEL_473ee5f3cfab4fe5a1979f50b437c2e6",
              "IPY_MODEL_8a436027884f4c8d8c9e642899777bb7",
              "IPY_MODEL_5b3c27d2218344f79e4cb347b2a8f7a4"
            ],
            "layout": "IPY_MODEL_e5cf33906cd9495ea7eefaaca9fd3e2b"
          }
        },
        "473ee5f3cfab4fe5a1979f50b437c2e6": {
          "model_module": "@jupyter-widgets/controls",
          "model_name": "HTMLModel",
          "model_module_version": "1.5.0",
          "state": {
            "_dom_classes": [],
            "_model_module": "@jupyter-widgets/controls",
            "_model_module_version": "1.5.0",
            "_model_name": "HTMLModel",
            "_view_count": null,
            "_view_module": "@jupyter-widgets/controls",
            "_view_module_version": "1.5.0",
            "_view_name": "HTMLView",
            "description": "",
            "description_tooltip": null,
            "layout": "IPY_MODEL_44be4b213c0f40e3a940f4bd837ea6c7",
            "placeholder": "​",
            "style": "IPY_MODEL_54b4fa1555864aaf9a68e5b61d5f372b",
            "value": "Map: 100%"
          }
        },
        "8a436027884f4c8d8c9e642899777bb7": {
          "model_module": "@jupyter-widgets/controls",
          "model_name": "FloatProgressModel",
          "model_module_version": "1.5.0",
          "state": {
            "_dom_classes": [],
            "_model_module": "@jupyter-widgets/controls",
            "_model_module_version": "1.5.0",
            "_model_name": "FloatProgressModel",
            "_view_count": null,
            "_view_module": "@jupyter-widgets/controls",
            "_view_module_version": "1.5.0",
            "_view_name": "ProgressView",
            "bar_style": "success",
            "description": "",
            "description_tooltip": null,
            "layout": "IPY_MODEL_232457e1ebd24d4f8a8267b032ac6918",
            "max": 8234,
            "min": 0,
            "orientation": "horizontal",
            "style": "IPY_MODEL_c841785d707c4147bf25a7065cd9aa8e",
            "value": 8234
          }
        },
        "5b3c27d2218344f79e4cb347b2a8f7a4": {
          "model_module": "@jupyter-widgets/controls",
          "model_name": "HTMLModel",
          "model_module_version": "1.5.0",
          "state": {
            "_dom_classes": [],
            "_model_module": "@jupyter-widgets/controls",
            "_model_module_version": "1.5.0",
            "_model_name": "HTMLModel",
            "_view_count": null,
            "_view_module": "@jupyter-widgets/controls",
            "_view_module_version": "1.5.0",
            "_view_name": "HTMLView",
            "description": "",
            "description_tooltip": null,
            "layout": "IPY_MODEL_566396fada7b43b497125a501b87e17e",
            "placeholder": "​",
            "style": "IPY_MODEL_ae0c5943850a4977aa8367070b0a6713",
            "value": " 8234/8234 [00:20&lt;00:00, 499.30 examples/s]"
          }
        },
        "e5cf33906cd9495ea7eefaaca9fd3e2b": {
          "model_module": "@jupyter-widgets/base",
          "model_name": "LayoutModel",
          "model_module_version": "1.2.0",
          "state": {
            "_model_module": "@jupyter-widgets/base",
            "_model_module_version": "1.2.0",
            "_model_name": "LayoutModel",
            "_view_count": null,
            "_view_module": "@jupyter-widgets/base",
            "_view_module_version": "1.2.0",
            "_view_name": "LayoutView",
            "align_content": null,
            "align_items": null,
            "align_self": null,
            "border": null,
            "bottom": null,
            "display": null,
            "flex": null,
            "flex_flow": null,
            "grid_area": null,
            "grid_auto_columns": null,
            "grid_auto_flow": null,
            "grid_auto_rows": null,
            "grid_column": null,
            "grid_gap": null,
            "grid_row": null,
            "grid_template_areas": null,
            "grid_template_columns": null,
            "grid_template_rows": null,
            "height": null,
            "justify_content": null,
            "justify_items": null,
            "left": null,
            "margin": null,
            "max_height": null,
            "max_width": null,
            "min_height": null,
            "min_width": null,
            "object_fit": null,
            "object_position": null,
            "order": null,
            "overflow": null,
            "overflow_x": null,
            "overflow_y": null,
            "padding": null,
            "right": null,
            "top": null,
            "visibility": null,
            "width": null
          }
        },
        "44be4b213c0f40e3a940f4bd837ea6c7": {
          "model_module": "@jupyter-widgets/base",
          "model_name": "LayoutModel",
          "model_module_version": "1.2.0",
          "state": {
            "_model_module": "@jupyter-widgets/base",
            "_model_module_version": "1.2.0",
            "_model_name": "LayoutModel",
            "_view_count": null,
            "_view_module": "@jupyter-widgets/base",
            "_view_module_version": "1.2.0",
            "_view_name": "LayoutView",
            "align_content": null,
            "align_items": null,
            "align_self": null,
            "border": null,
            "bottom": null,
            "display": null,
            "flex": null,
            "flex_flow": null,
            "grid_area": null,
            "grid_auto_columns": null,
            "grid_auto_flow": null,
            "grid_auto_rows": null,
            "grid_column": null,
            "grid_gap": null,
            "grid_row": null,
            "grid_template_areas": null,
            "grid_template_columns": null,
            "grid_template_rows": null,
            "height": null,
            "justify_content": null,
            "justify_items": null,
            "left": null,
            "margin": null,
            "max_height": null,
            "max_width": null,
            "min_height": null,
            "min_width": null,
            "object_fit": null,
            "object_position": null,
            "order": null,
            "overflow": null,
            "overflow_x": null,
            "overflow_y": null,
            "padding": null,
            "right": null,
            "top": null,
            "visibility": null,
            "width": null
          }
        },
        "54b4fa1555864aaf9a68e5b61d5f372b": {
          "model_module": "@jupyter-widgets/controls",
          "model_name": "DescriptionStyleModel",
          "model_module_version": "1.5.0",
          "state": {
            "_model_module": "@jupyter-widgets/controls",
            "_model_module_version": "1.5.0",
            "_model_name": "DescriptionStyleModel",
            "_view_count": null,
            "_view_module": "@jupyter-widgets/base",
            "_view_module_version": "1.2.0",
            "_view_name": "StyleView",
            "description_width": ""
          }
        },
        "232457e1ebd24d4f8a8267b032ac6918": {
          "model_module": "@jupyter-widgets/base",
          "model_name": "LayoutModel",
          "model_module_version": "1.2.0",
          "state": {
            "_model_module": "@jupyter-widgets/base",
            "_model_module_version": "1.2.0",
            "_model_name": "LayoutModel",
            "_view_count": null,
            "_view_module": "@jupyter-widgets/base",
            "_view_module_version": "1.2.0",
            "_view_name": "LayoutView",
            "align_content": null,
            "align_items": null,
            "align_self": null,
            "border": null,
            "bottom": null,
            "display": null,
            "flex": null,
            "flex_flow": null,
            "grid_area": null,
            "grid_auto_columns": null,
            "grid_auto_flow": null,
            "grid_auto_rows": null,
            "grid_column": null,
            "grid_gap": null,
            "grid_row": null,
            "grid_template_areas": null,
            "grid_template_columns": null,
            "grid_template_rows": null,
            "height": null,
            "justify_content": null,
            "justify_items": null,
            "left": null,
            "margin": null,
            "max_height": null,
            "max_width": null,
            "min_height": null,
            "min_width": null,
            "object_fit": null,
            "object_position": null,
            "order": null,
            "overflow": null,
            "overflow_x": null,
            "overflow_y": null,
            "padding": null,
            "right": null,
            "top": null,
            "visibility": null,
            "width": null
          }
        },
        "c841785d707c4147bf25a7065cd9aa8e": {
          "model_module": "@jupyter-widgets/controls",
          "model_name": "ProgressStyleModel",
          "model_module_version": "1.5.0",
          "state": {
            "_model_module": "@jupyter-widgets/controls",
            "_model_module_version": "1.5.0",
            "_model_name": "ProgressStyleModel",
            "_view_count": null,
            "_view_module": "@jupyter-widgets/base",
            "_view_module_version": "1.2.0",
            "_view_name": "StyleView",
            "bar_color": null,
            "description_width": ""
          }
        },
        "566396fada7b43b497125a501b87e17e": {
          "model_module": "@jupyter-widgets/base",
          "model_name": "LayoutModel",
          "model_module_version": "1.2.0",
          "state": {
            "_model_module": "@jupyter-widgets/base",
            "_model_module_version": "1.2.0",
            "_model_name": "LayoutModel",
            "_view_count": null,
            "_view_module": "@jupyter-widgets/base",
            "_view_module_version": "1.2.0",
            "_view_name": "LayoutView",
            "align_content": null,
            "align_items": null,
            "align_self": null,
            "border": null,
            "bottom": null,
            "display": null,
            "flex": null,
            "flex_flow": null,
            "grid_area": null,
            "grid_auto_columns": null,
            "grid_auto_flow": null,
            "grid_auto_rows": null,
            "grid_column": null,
            "grid_gap": null,
            "grid_row": null,
            "grid_template_areas": null,
            "grid_template_columns": null,
            "grid_template_rows": null,
            "height": null,
            "justify_content": null,
            "justify_items": null,
            "left": null,
            "margin": null,
            "max_height": null,
            "max_width": null,
            "min_height": null,
            "min_width": null,
            "object_fit": null,
            "object_position": null,
            "order": null,
            "overflow": null,
            "overflow_x": null,
            "overflow_y": null,
            "padding": null,
            "right": null,
            "top": null,
            "visibility": null,
            "width": null
          }
        },
        "ae0c5943850a4977aa8367070b0a6713": {
          "model_module": "@jupyter-widgets/controls",
          "model_name": "DescriptionStyleModel",
          "model_module_version": "1.5.0",
          "state": {
            "_model_module": "@jupyter-widgets/controls",
            "_model_module_version": "1.5.0",
            "_model_name": "DescriptionStyleModel",
            "_view_count": null,
            "_view_module": "@jupyter-widgets/base",
            "_view_module_version": "1.2.0",
            "_view_name": "StyleView",
            "description_width": ""
          }
        },
        "ffedcc44681c4f7ba40928dd9ecd1d96": {
          "model_module": "@jupyter-widgets/controls",
          "model_name": "HBoxModel",
          "model_module_version": "1.5.0",
          "state": {
            "_dom_classes": [],
            "_model_module": "@jupyter-widgets/controls",
            "_model_module_version": "1.5.0",
            "_model_name": "HBoxModel",
            "_view_count": null,
            "_view_module": "@jupyter-widgets/controls",
            "_view_module_version": "1.5.0",
            "_view_name": "HBoxView",
            "box_style": "",
            "children": [
              "IPY_MODEL_484e51aa5f6c404f8be49c0fd1b838b3",
              "IPY_MODEL_9fc9d1c442644f689bf2bbeb03fe616d",
              "IPY_MODEL_e20321288b9d4d89b84fbfee813a9bb6"
            ],
            "layout": "IPY_MODEL_223fa00a57854ba5bb1f6a4082ea68bf"
          }
        },
        "484e51aa5f6c404f8be49c0fd1b838b3": {
          "model_module": "@jupyter-widgets/controls",
          "model_name": "HTMLModel",
          "model_module_version": "1.5.0",
          "state": {
            "_dom_classes": [],
            "_model_module": "@jupyter-widgets/controls",
            "_model_module_version": "1.5.0",
            "_model_name": "HTMLModel",
            "_view_count": null,
            "_view_module": "@jupyter-widgets/controls",
            "_view_module_version": "1.5.0",
            "_view_name": "HTMLView",
            "description": "",
            "description_tooltip": null,
            "layout": "IPY_MODEL_353c69712ed244799fa6f1631295b10e",
            "placeholder": "​",
            "style": "IPY_MODEL_507cdf6dc094450dbe8f6060b8f09266",
            "value": "Map: 100%"
          }
        },
        "9fc9d1c442644f689bf2bbeb03fe616d": {
          "model_module": "@jupyter-widgets/controls",
          "model_name": "FloatProgressModel",
          "model_module_version": "1.5.0",
          "state": {
            "_dom_classes": [],
            "_model_module": "@jupyter-widgets/controls",
            "_model_module_version": "1.5.0",
            "_model_name": "FloatProgressModel",
            "_view_count": null,
            "_view_module": "@jupyter-widgets/controls",
            "_view_module_version": "1.5.0",
            "_view_name": "ProgressView",
            "bar_style": "success",
            "description": "",
            "description_tooltip": null,
            "layout": "IPY_MODEL_352010cd9fd0468282c77f5d79755a1d",
            "max": 2168,
            "min": 0,
            "orientation": "horizontal",
            "style": "IPY_MODEL_34301ce5e2114094bca6b905401ef41a",
            "value": 2168
          }
        },
        "e20321288b9d4d89b84fbfee813a9bb6": {
          "model_module": "@jupyter-widgets/controls",
          "model_name": "HTMLModel",
          "model_module_version": "1.5.0",
          "state": {
            "_dom_classes": [],
            "_model_module": "@jupyter-widgets/controls",
            "_model_module_version": "1.5.0",
            "_model_name": "HTMLModel",
            "_view_count": null,
            "_view_module": "@jupyter-widgets/controls",
            "_view_module_version": "1.5.0",
            "_view_name": "HTMLView",
            "description": "",
            "description_tooltip": null,
            "layout": "IPY_MODEL_b0316dcfe86f4d94b6b25c1643d56f21",
            "placeholder": "​",
            "style": "IPY_MODEL_185689a1f5f1484b8a203c12b8f7a3e8",
            "value": " 2168/2168 [00:03&lt;00:00, 498.18 examples/s]"
          }
        },
        "223fa00a57854ba5bb1f6a4082ea68bf": {
          "model_module": "@jupyter-widgets/base",
          "model_name": "LayoutModel",
          "model_module_version": "1.2.0",
          "state": {
            "_model_module": "@jupyter-widgets/base",
            "_model_module_version": "1.2.0",
            "_model_name": "LayoutModel",
            "_view_count": null,
            "_view_module": "@jupyter-widgets/base",
            "_view_module_version": "1.2.0",
            "_view_name": "LayoutView",
            "align_content": null,
            "align_items": null,
            "align_self": null,
            "border": null,
            "bottom": null,
            "display": null,
            "flex": null,
            "flex_flow": null,
            "grid_area": null,
            "grid_auto_columns": null,
            "grid_auto_flow": null,
            "grid_auto_rows": null,
            "grid_column": null,
            "grid_gap": null,
            "grid_row": null,
            "grid_template_areas": null,
            "grid_template_columns": null,
            "grid_template_rows": null,
            "height": null,
            "justify_content": null,
            "justify_items": null,
            "left": null,
            "margin": null,
            "max_height": null,
            "max_width": null,
            "min_height": null,
            "min_width": null,
            "object_fit": null,
            "object_position": null,
            "order": null,
            "overflow": null,
            "overflow_x": null,
            "overflow_y": null,
            "padding": null,
            "right": null,
            "top": null,
            "visibility": null,
            "width": null
          }
        },
        "353c69712ed244799fa6f1631295b10e": {
          "model_module": "@jupyter-widgets/base",
          "model_name": "LayoutModel",
          "model_module_version": "1.2.0",
          "state": {
            "_model_module": "@jupyter-widgets/base",
            "_model_module_version": "1.2.0",
            "_model_name": "LayoutModel",
            "_view_count": null,
            "_view_module": "@jupyter-widgets/base",
            "_view_module_version": "1.2.0",
            "_view_name": "LayoutView",
            "align_content": null,
            "align_items": null,
            "align_self": null,
            "border": null,
            "bottom": null,
            "display": null,
            "flex": null,
            "flex_flow": null,
            "grid_area": null,
            "grid_auto_columns": null,
            "grid_auto_flow": null,
            "grid_auto_rows": null,
            "grid_column": null,
            "grid_gap": null,
            "grid_row": null,
            "grid_template_areas": null,
            "grid_template_columns": null,
            "grid_template_rows": null,
            "height": null,
            "justify_content": null,
            "justify_items": null,
            "left": null,
            "margin": null,
            "max_height": null,
            "max_width": null,
            "min_height": null,
            "min_width": null,
            "object_fit": null,
            "object_position": null,
            "order": null,
            "overflow": null,
            "overflow_x": null,
            "overflow_y": null,
            "padding": null,
            "right": null,
            "top": null,
            "visibility": null,
            "width": null
          }
        },
        "507cdf6dc094450dbe8f6060b8f09266": {
          "model_module": "@jupyter-widgets/controls",
          "model_name": "DescriptionStyleModel",
          "model_module_version": "1.5.0",
          "state": {
            "_model_module": "@jupyter-widgets/controls",
            "_model_module_version": "1.5.0",
            "_model_name": "DescriptionStyleModel",
            "_view_count": null,
            "_view_module": "@jupyter-widgets/base",
            "_view_module_version": "1.2.0",
            "_view_name": "StyleView",
            "description_width": ""
          }
        },
        "352010cd9fd0468282c77f5d79755a1d": {
          "model_module": "@jupyter-widgets/base",
          "model_name": "LayoutModel",
          "model_module_version": "1.2.0",
          "state": {
            "_model_module": "@jupyter-widgets/base",
            "_model_module_version": "1.2.0",
            "_model_name": "LayoutModel",
            "_view_count": null,
            "_view_module": "@jupyter-widgets/base",
            "_view_module_version": "1.2.0",
            "_view_name": "LayoutView",
            "align_content": null,
            "align_items": null,
            "align_self": null,
            "border": null,
            "bottom": null,
            "display": null,
            "flex": null,
            "flex_flow": null,
            "grid_area": null,
            "grid_auto_columns": null,
            "grid_auto_flow": null,
            "grid_auto_rows": null,
            "grid_column": null,
            "grid_gap": null,
            "grid_row": null,
            "grid_template_areas": null,
            "grid_template_columns": null,
            "grid_template_rows": null,
            "height": null,
            "justify_content": null,
            "justify_items": null,
            "left": null,
            "margin": null,
            "max_height": null,
            "max_width": null,
            "min_height": null,
            "min_width": null,
            "object_fit": null,
            "object_position": null,
            "order": null,
            "overflow": null,
            "overflow_x": null,
            "overflow_y": null,
            "padding": null,
            "right": null,
            "top": null,
            "visibility": null,
            "width": null
          }
        },
        "34301ce5e2114094bca6b905401ef41a": {
          "model_module": "@jupyter-widgets/controls",
          "model_name": "ProgressStyleModel",
          "model_module_version": "1.5.0",
          "state": {
            "_model_module": "@jupyter-widgets/controls",
            "_model_module_version": "1.5.0",
            "_model_name": "ProgressStyleModel",
            "_view_count": null,
            "_view_module": "@jupyter-widgets/base",
            "_view_module_version": "1.2.0",
            "_view_name": "StyleView",
            "bar_color": null,
            "description_width": ""
          }
        },
        "b0316dcfe86f4d94b6b25c1643d56f21": {
          "model_module": "@jupyter-widgets/base",
          "model_name": "LayoutModel",
          "model_module_version": "1.2.0",
          "state": {
            "_model_module": "@jupyter-widgets/base",
            "_model_module_version": "1.2.0",
            "_model_name": "LayoutModel",
            "_view_count": null,
            "_view_module": "@jupyter-widgets/base",
            "_view_module_version": "1.2.0",
            "_view_name": "LayoutView",
            "align_content": null,
            "align_items": null,
            "align_self": null,
            "border": null,
            "bottom": null,
            "display": null,
            "flex": null,
            "flex_flow": null,
            "grid_area": null,
            "grid_auto_columns": null,
            "grid_auto_flow": null,
            "grid_auto_rows": null,
            "grid_column": null,
            "grid_gap": null,
            "grid_row": null,
            "grid_template_areas": null,
            "grid_template_columns": null,
            "grid_template_rows": null,
            "height": null,
            "justify_content": null,
            "justify_items": null,
            "left": null,
            "margin": null,
            "max_height": null,
            "max_width": null,
            "min_height": null,
            "min_width": null,
            "object_fit": null,
            "object_position": null,
            "order": null,
            "overflow": null,
            "overflow_x": null,
            "overflow_y": null,
            "padding": null,
            "right": null,
            "top": null,
            "visibility": null,
            "width": null
          }
        },
        "185689a1f5f1484b8a203c12b8f7a3e8": {
          "model_module": "@jupyter-widgets/controls",
          "model_name": "DescriptionStyleModel",
          "model_module_version": "1.5.0",
          "state": {
            "_model_module": "@jupyter-widgets/controls",
            "_model_module_version": "1.5.0",
            "_model_name": "DescriptionStyleModel",
            "_view_count": null,
            "_view_module": "@jupyter-widgets/base",
            "_view_module_version": "1.2.0",
            "_view_name": "StyleView",
            "description_width": ""
          }
        },
        "b6814967db4448a2b2b36f064d8a68ba": {
          "model_module": "@jupyter-widgets/controls",
          "model_name": "HBoxModel",
          "model_module_version": "1.5.0",
          "state": {
            "_dom_classes": [],
            "_model_module": "@jupyter-widgets/controls",
            "_model_module_version": "1.5.0",
            "_model_name": "HBoxModel",
            "_view_count": null,
            "_view_module": "@jupyter-widgets/controls",
            "_view_module_version": "1.5.0",
            "_view_name": "HBoxView",
            "box_style": "",
            "children": [
              "IPY_MODEL_16c1843a14124d0ea149026db03dba43",
              "IPY_MODEL_5580f9c222eb4c9c9fe1898302ae08b9",
              "IPY_MODEL_dd57c0738a4f4460ba454b5dc96768c8"
            ],
            "layout": "IPY_MODEL_cd248f8774e644d4985c730fa62b8cc3"
          }
        },
        "16c1843a14124d0ea149026db03dba43": {
          "model_module": "@jupyter-widgets/controls",
          "model_name": "HTMLModel",
          "model_module_version": "1.5.0",
          "state": {
            "_dom_classes": [],
            "_model_module": "@jupyter-widgets/controls",
            "_model_module_version": "1.5.0",
            "_model_name": "HTMLModel",
            "_view_count": null,
            "_view_module": "@jupyter-widgets/controls",
            "_view_module_version": "1.5.0",
            "_view_name": "HTMLView",
            "description": "",
            "description_tooltip": null,
            "layout": "IPY_MODEL_588c0025c3e7497e85e259d00c54154f",
            "placeholder": "​",
            "style": "IPY_MODEL_7200642736244e3ba3bdc812b76449a7",
            "value": "Map: 100%"
          }
        },
        "5580f9c222eb4c9c9fe1898302ae08b9": {
          "model_module": "@jupyter-widgets/controls",
          "model_name": "FloatProgressModel",
          "model_module_version": "1.5.0",
          "state": {
            "_dom_classes": [],
            "_model_module": "@jupyter-widgets/controls",
            "_model_module_version": "1.5.0",
            "_model_name": "FloatProgressModel",
            "_view_count": null,
            "_view_module": "@jupyter-widgets/controls",
            "_view_module_version": "1.5.0",
            "_view_name": "ProgressView",
            "bar_style": "success",
            "description": "",
            "description_tooltip": null,
            "layout": "IPY_MODEL_040cbe950b30493789683c9d7e4639c2",
            "max": 8234,
            "min": 0,
            "orientation": "horizontal",
            "style": "IPY_MODEL_10bc12bb48cc4171aba556c5fb70fe16",
            "value": 8234
          }
        },
        "dd57c0738a4f4460ba454b5dc96768c8": {
          "model_module": "@jupyter-widgets/controls",
          "model_name": "HTMLModel",
          "model_module_version": "1.5.0",
          "state": {
            "_dom_classes": [],
            "_model_module": "@jupyter-widgets/controls",
            "_model_module_version": "1.5.0",
            "_model_name": "HTMLModel",
            "_view_count": null,
            "_view_module": "@jupyter-widgets/controls",
            "_view_module_version": "1.5.0",
            "_view_name": "HTMLView",
            "description": "",
            "description_tooltip": null,
            "layout": "IPY_MODEL_677795e42e9b4631907251648f82e1ff",
            "placeholder": "​",
            "style": "IPY_MODEL_5207358435684ebca4aced2a881fdd1d",
            "value": " 8234/8234 [03:12&lt;00:00, 43.86 examples/s]"
          }
        },
        "cd248f8774e644d4985c730fa62b8cc3": {
          "model_module": "@jupyter-widgets/base",
          "model_name": "LayoutModel",
          "model_module_version": "1.2.0",
          "state": {
            "_model_module": "@jupyter-widgets/base",
            "_model_module_version": "1.2.0",
            "_model_name": "LayoutModel",
            "_view_count": null,
            "_view_module": "@jupyter-widgets/base",
            "_view_module_version": "1.2.0",
            "_view_name": "LayoutView",
            "align_content": null,
            "align_items": null,
            "align_self": null,
            "border": null,
            "bottom": null,
            "display": null,
            "flex": null,
            "flex_flow": null,
            "grid_area": null,
            "grid_auto_columns": null,
            "grid_auto_flow": null,
            "grid_auto_rows": null,
            "grid_column": null,
            "grid_gap": null,
            "grid_row": null,
            "grid_template_areas": null,
            "grid_template_columns": null,
            "grid_template_rows": null,
            "height": null,
            "justify_content": null,
            "justify_items": null,
            "left": null,
            "margin": null,
            "max_height": null,
            "max_width": null,
            "min_height": null,
            "min_width": null,
            "object_fit": null,
            "object_position": null,
            "order": null,
            "overflow": null,
            "overflow_x": null,
            "overflow_y": null,
            "padding": null,
            "right": null,
            "top": null,
            "visibility": null,
            "width": null
          }
        },
        "588c0025c3e7497e85e259d00c54154f": {
          "model_module": "@jupyter-widgets/base",
          "model_name": "LayoutModel",
          "model_module_version": "1.2.0",
          "state": {
            "_model_module": "@jupyter-widgets/base",
            "_model_module_version": "1.2.0",
            "_model_name": "LayoutModel",
            "_view_count": null,
            "_view_module": "@jupyter-widgets/base",
            "_view_module_version": "1.2.0",
            "_view_name": "LayoutView",
            "align_content": null,
            "align_items": null,
            "align_self": null,
            "border": null,
            "bottom": null,
            "display": null,
            "flex": null,
            "flex_flow": null,
            "grid_area": null,
            "grid_auto_columns": null,
            "grid_auto_flow": null,
            "grid_auto_rows": null,
            "grid_column": null,
            "grid_gap": null,
            "grid_row": null,
            "grid_template_areas": null,
            "grid_template_columns": null,
            "grid_template_rows": null,
            "height": null,
            "justify_content": null,
            "justify_items": null,
            "left": null,
            "margin": null,
            "max_height": null,
            "max_width": null,
            "min_height": null,
            "min_width": null,
            "object_fit": null,
            "object_position": null,
            "order": null,
            "overflow": null,
            "overflow_x": null,
            "overflow_y": null,
            "padding": null,
            "right": null,
            "top": null,
            "visibility": null,
            "width": null
          }
        },
        "7200642736244e3ba3bdc812b76449a7": {
          "model_module": "@jupyter-widgets/controls",
          "model_name": "DescriptionStyleModel",
          "model_module_version": "1.5.0",
          "state": {
            "_model_module": "@jupyter-widgets/controls",
            "_model_module_version": "1.5.0",
            "_model_name": "DescriptionStyleModel",
            "_view_count": null,
            "_view_module": "@jupyter-widgets/base",
            "_view_module_version": "1.2.0",
            "_view_name": "StyleView",
            "description_width": ""
          }
        },
        "040cbe950b30493789683c9d7e4639c2": {
          "model_module": "@jupyter-widgets/base",
          "model_name": "LayoutModel",
          "model_module_version": "1.2.0",
          "state": {
            "_model_module": "@jupyter-widgets/base",
            "_model_module_version": "1.2.0",
            "_model_name": "LayoutModel",
            "_view_count": null,
            "_view_module": "@jupyter-widgets/base",
            "_view_module_version": "1.2.0",
            "_view_name": "LayoutView",
            "align_content": null,
            "align_items": null,
            "align_self": null,
            "border": null,
            "bottom": null,
            "display": null,
            "flex": null,
            "flex_flow": null,
            "grid_area": null,
            "grid_auto_columns": null,
            "grid_auto_flow": null,
            "grid_auto_rows": null,
            "grid_column": null,
            "grid_gap": null,
            "grid_row": null,
            "grid_template_areas": null,
            "grid_template_columns": null,
            "grid_template_rows": null,
            "height": null,
            "justify_content": null,
            "justify_items": null,
            "left": null,
            "margin": null,
            "max_height": null,
            "max_width": null,
            "min_height": null,
            "min_width": null,
            "object_fit": null,
            "object_position": null,
            "order": null,
            "overflow": null,
            "overflow_x": null,
            "overflow_y": null,
            "padding": null,
            "right": null,
            "top": null,
            "visibility": null,
            "width": null
          }
        },
        "10bc12bb48cc4171aba556c5fb70fe16": {
          "model_module": "@jupyter-widgets/controls",
          "model_name": "ProgressStyleModel",
          "model_module_version": "1.5.0",
          "state": {
            "_model_module": "@jupyter-widgets/controls",
            "_model_module_version": "1.5.0",
            "_model_name": "ProgressStyleModel",
            "_view_count": null,
            "_view_module": "@jupyter-widgets/base",
            "_view_module_version": "1.2.0",
            "_view_name": "StyleView",
            "bar_color": null,
            "description_width": ""
          }
        },
        "677795e42e9b4631907251648f82e1ff": {
          "model_module": "@jupyter-widgets/base",
          "model_name": "LayoutModel",
          "model_module_version": "1.2.0",
          "state": {
            "_model_module": "@jupyter-widgets/base",
            "_model_module_version": "1.2.0",
            "_model_name": "LayoutModel",
            "_view_count": null,
            "_view_module": "@jupyter-widgets/base",
            "_view_module_version": "1.2.0",
            "_view_name": "LayoutView",
            "align_content": null,
            "align_items": null,
            "align_self": null,
            "border": null,
            "bottom": null,
            "display": null,
            "flex": null,
            "flex_flow": null,
            "grid_area": null,
            "grid_auto_columns": null,
            "grid_auto_flow": null,
            "grid_auto_rows": null,
            "grid_column": null,
            "grid_gap": null,
            "grid_row": null,
            "grid_template_areas": null,
            "grid_template_columns": null,
            "grid_template_rows": null,
            "height": null,
            "justify_content": null,
            "justify_items": null,
            "left": null,
            "margin": null,
            "max_height": null,
            "max_width": null,
            "min_height": null,
            "min_width": null,
            "object_fit": null,
            "object_position": null,
            "order": null,
            "overflow": null,
            "overflow_x": null,
            "overflow_y": null,
            "padding": null,
            "right": null,
            "top": null,
            "visibility": null,
            "width": null
          }
        },
        "5207358435684ebca4aced2a881fdd1d": {
          "model_module": "@jupyter-widgets/controls",
          "model_name": "DescriptionStyleModel",
          "model_module_version": "1.5.0",
          "state": {
            "_model_module": "@jupyter-widgets/controls",
            "_model_module_version": "1.5.0",
            "_model_name": "DescriptionStyleModel",
            "_view_count": null,
            "_view_module": "@jupyter-widgets/base",
            "_view_module_version": "1.2.0",
            "_view_name": "StyleView",
            "description_width": ""
          }
        },
        "37a4b8cf4ac743ecbb00e90cac32e958": {
          "model_module": "@jupyter-widgets/controls",
          "model_name": "HBoxModel",
          "model_module_version": "1.5.0",
          "state": {
            "_dom_classes": [],
            "_model_module": "@jupyter-widgets/controls",
            "_model_module_version": "1.5.0",
            "_model_name": "HBoxModel",
            "_view_count": null,
            "_view_module": "@jupyter-widgets/controls",
            "_view_module_version": "1.5.0",
            "_view_name": "HBoxView",
            "box_style": "",
            "children": [
              "IPY_MODEL_03b293de9e2b4e9cbdd4af116f2989d4",
              "IPY_MODEL_d76837e8550745e1874e509bb184226e",
              "IPY_MODEL_2be3e5ec8704436083c3808302c0efdd"
            ],
            "layout": "IPY_MODEL_c0b58578134643f6958499bc40e5cdf6"
          }
        },
        "03b293de9e2b4e9cbdd4af116f2989d4": {
          "model_module": "@jupyter-widgets/controls",
          "model_name": "HTMLModel",
          "model_module_version": "1.5.0",
          "state": {
            "_dom_classes": [],
            "_model_module": "@jupyter-widgets/controls",
            "_model_module_version": "1.5.0",
            "_model_name": "HTMLModel",
            "_view_count": null,
            "_view_module": "@jupyter-widgets/controls",
            "_view_module_version": "1.5.0",
            "_view_name": "HTMLView",
            "description": "",
            "description_tooltip": null,
            "layout": "IPY_MODEL_dd206a7f927d4f0e90b1bbb9cfa02850",
            "placeholder": "​",
            "style": "IPY_MODEL_5eb7305eeaa34680a3f7188badfb3c90",
            "value": "Map: 100%"
          }
        },
        "d76837e8550745e1874e509bb184226e": {
          "model_module": "@jupyter-widgets/controls",
          "model_name": "FloatProgressModel",
          "model_module_version": "1.5.0",
          "state": {
            "_dom_classes": [],
            "_model_module": "@jupyter-widgets/controls",
            "_model_module_version": "1.5.0",
            "_model_name": "FloatProgressModel",
            "_view_count": null,
            "_view_module": "@jupyter-widgets/controls",
            "_view_module_version": "1.5.0",
            "_view_name": "ProgressView",
            "bar_style": "success",
            "description": "",
            "description_tooltip": null,
            "layout": "IPY_MODEL_b9d5cb90443747b69e6e3cc787ec29fa",
            "max": 2168,
            "min": 0,
            "orientation": "horizontal",
            "style": "IPY_MODEL_434824833da44e9f8fa57ff023e364b6",
            "value": 2168
          }
        },
        "2be3e5ec8704436083c3808302c0efdd": {
          "model_module": "@jupyter-widgets/controls",
          "model_name": "HTMLModel",
          "model_module_version": "1.5.0",
          "state": {
            "_dom_classes": [],
            "_model_module": "@jupyter-widgets/controls",
            "_model_module_version": "1.5.0",
            "_model_name": "HTMLModel",
            "_view_count": null,
            "_view_module": "@jupyter-widgets/controls",
            "_view_module_version": "1.5.0",
            "_view_name": "HTMLView",
            "description": "",
            "description_tooltip": null,
            "layout": "IPY_MODEL_27330a8e479e47219b28c49584e0296f",
            "placeholder": "​",
            "style": "IPY_MODEL_4ad5512ba253413b923a77d601eb5ae5",
            "value": " 2168/2168 [00:48&lt;00:00, 50.59 examples/s]"
          }
        },
        "c0b58578134643f6958499bc40e5cdf6": {
          "model_module": "@jupyter-widgets/base",
          "model_name": "LayoutModel",
          "model_module_version": "1.2.0",
          "state": {
            "_model_module": "@jupyter-widgets/base",
            "_model_module_version": "1.2.0",
            "_model_name": "LayoutModel",
            "_view_count": null,
            "_view_module": "@jupyter-widgets/base",
            "_view_module_version": "1.2.0",
            "_view_name": "LayoutView",
            "align_content": null,
            "align_items": null,
            "align_self": null,
            "border": null,
            "bottom": null,
            "display": null,
            "flex": null,
            "flex_flow": null,
            "grid_area": null,
            "grid_auto_columns": null,
            "grid_auto_flow": null,
            "grid_auto_rows": null,
            "grid_column": null,
            "grid_gap": null,
            "grid_row": null,
            "grid_template_areas": null,
            "grid_template_columns": null,
            "grid_template_rows": null,
            "height": null,
            "justify_content": null,
            "justify_items": null,
            "left": null,
            "margin": null,
            "max_height": null,
            "max_width": null,
            "min_height": null,
            "min_width": null,
            "object_fit": null,
            "object_position": null,
            "order": null,
            "overflow": null,
            "overflow_x": null,
            "overflow_y": null,
            "padding": null,
            "right": null,
            "top": null,
            "visibility": null,
            "width": null
          }
        },
        "dd206a7f927d4f0e90b1bbb9cfa02850": {
          "model_module": "@jupyter-widgets/base",
          "model_name": "LayoutModel",
          "model_module_version": "1.2.0",
          "state": {
            "_model_module": "@jupyter-widgets/base",
            "_model_module_version": "1.2.0",
            "_model_name": "LayoutModel",
            "_view_count": null,
            "_view_module": "@jupyter-widgets/base",
            "_view_module_version": "1.2.0",
            "_view_name": "LayoutView",
            "align_content": null,
            "align_items": null,
            "align_self": null,
            "border": null,
            "bottom": null,
            "display": null,
            "flex": null,
            "flex_flow": null,
            "grid_area": null,
            "grid_auto_columns": null,
            "grid_auto_flow": null,
            "grid_auto_rows": null,
            "grid_column": null,
            "grid_gap": null,
            "grid_row": null,
            "grid_template_areas": null,
            "grid_template_columns": null,
            "grid_template_rows": null,
            "height": null,
            "justify_content": null,
            "justify_items": null,
            "left": null,
            "margin": null,
            "max_height": null,
            "max_width": null,
            "min_height": null,
            "min_width": null,
            "object_fit": null,
            "object_position": null,
            "order": null,
            "overflow": null,
            "overflow_x": null,
            "overflow_y": null,
            "padding": null,
            "right": null,
            "top": null,
            "visibility": null,
            "width": null
          }
        },
        "5eb7305eeaa34680a3f7188badfb3c90": {
          "model_module": "@jupyter-widgets/controls",
          "model_name": "DescriptionStyleModel",
          "model_module_version": "1.5.0",
          "state": {
            "_model_module": "@jupyter-widgets/controls",
            "_model_module_version": "1.5.0",
            "_model_name": "DescriptionStyleModel",
            "_view_count": null,
            "_view_module": "@jupyter-widgets/base",
            "_view_module_version": "1.2.0",
            "_view_name": "StyleView",
            "description_width": ""
          }
        },
        "b9d5cb90443747b69e6e3cc787ec29fa": {
          "model_module": "@jupyter-widgets/base",
          "model_name": "LayoutModel",
          "model_module_version": "1.2.0",
          "state": {
            "_model_module": "@jupyter-widgets/base",
            "_model_module_version": "1.2.0",
            "_model_name": "LayoutModel",
            "_view_count": null,
            "_view_module": "@jupyter-widgets/base",
            "_view_module_version": "1.2.0",
            "_view_name": "LayoutView",
            "align_content": null,
            "align_items": null,
            "align_self": null,
            "border": null,
            "bottom": null,
            "display": null,
            "flex": null,
            "flex_flow": null,
            "grid_area": null,
            "grid_auto_columns": null,
            "grid_auto_flow": null,
            "grid_auto_rows": null,
            "grid_column": null,
            "grid_gap": null,
            "grid_row": null,
            "grid_template_areas": null,
            "grid_template_columns": null,
            "grid_template_rows": null,
            "height": null,
            "justify_content": null,
            "justify_items": null,
            "left": null,
            "margin": null,
            "max_height": null,
            "max_width": null,
            "min_height": null,
            "min_width": null,
            "object_fit": null,
            "object_position": null,
            "order": null,
            "overflow": null,
            "overflow_x": null,
            "overflow_y": null,
            "padding": null,
            "right": null,
            "top": null,
            "visibility": null,
            "width": null
          }
        },
        "434824833da44e9f8fa57ff023e364b6": {
          "model_module": "@jupyter-widgets/controls",
          "model_name": "ProgressStyleModel",
          "model_module_version": "1.5.0",
          "state": {
            "_model_module": "@jupyter-widgets/controls",
            "_model_module_version": "1.5.0",
            "_model_name": "ProgressStyleModel",
            "_view_count": null,
            "_view_module": "@jupyter-widgets/base",
            "_view_module_version": "1.2.0",
            "_view_name": "StyleView",
            "bar_color": null,
            "description_width": ""
          }
        },
        "27330a8e479e47219b28c49584e0296f": {
          "model_module": "@jupyter-widgets/base",
          "model_name": "LayoutModel",
          "model_module_version": "1.2.0",
          "state": {
            "_model_module": "@jupyter-widgets/base",
            "_model_module_version": "1.2.0",
            "_model_name": "LayoutModel",
            "_view_count": null,
            "_view_module": "@jupyter-widgets/base",
            "_view_module_version": "1.2.0",
            "_view_name": "LayoutView",
            "align_content": null,
            "align_items": null,
            "align_self": null,
            "border": null,
            "bottom": null,
            "display": null,
            "flex": null,
            "flex_flow": null,
            "grid_area": null,
            "grid_auto_columns": null,
            "grid_auto_flow": null,
            "grid_auto_rows": null,
            "grid_column": null,
            "grid_gap": null,
            "grid_row": null,
            "grid_template_areas": null,
            "grid_template_columns": null,
            "grid_template_rows": null,
            "height": null,
            "justify_content": null,
            "justify_items": null,
            "left": null,
            "margin": null,
            "max_height": null,
            "max_width": null,
            "min_height": null,
            "min_width": null,
            "object_fit": null,
            "object_position": null,
            "order": null,
            "overflow": null,
            "overflow_x": null,
            "overflow_y": null,
            "padding": null,
            "right": null,
            "top": null,
            "visibility": null,
            "width": null
          }
        },
        "4ad5512ba253413b923a77d601eb5ae5": {
          "model_module": "@jupyter-widgets/controls",
          "model_name": "DescriptionStyleModel",
          "model_module_version": "1.5.0",
          "state": {
            "_model_module": "@jupyter-widgets/controls",
            "_model_module_version": "1.5.0",
            "_model_name": "DescriptionStyleModel",
            "_view_count": null,
            "_view_module": "@jupyter-widgets/base",
            "_view_module_version": "1.2.0",
            "_view_name": "StyleView",
            "description_width": ""
          }
        }
      }
    }
  },
  "nbformat_minor": 0,
  "nbformat": 4,
  "cells": [
    {
      "cell_type": "code",
      "source": [
        "#!pip install datasets\n",
        "#!pip install transformers\n",
        "#!git clone https://github.com/besacier/ALFFA_PUBLIC.git\n",
        "#!pip install wandb"
      ],
      "metadata": {
        "id": "uoRU34G5zqK4"
      },
      "execution_count": 39,
      "outputs": []
    },
    {
      "cell_type": "code",
      "source": [
        "from pathlib import Path\n",
        "import os\n",
        "import warnings\n",
        "import random\n",
        "\n",
        "import re\n",
        "import json\n",
        "import pandas as pd\n",
        "from datasets import ClassLabel, Dataset, DatasetDict, load_dataset\n",
        "import librosa\n",
        "from dataclasses import dataclass, field\n",
        "from typing import Any, Dict, List, Optional, Union\n",
        "\n",
        "import numpy as np # linear algebra\n",
        "import pandas as pd # data processing, CSV file I/O (e.g. pd.read_csv)\n",
        "\n",
        "from IPython.display import Audio\n",
        "\n",
        "from IPython.display import display, HTML\n",
        "\n",
        "\n",
        "import torch\n",
        "from transformers import Wav2Vec2CTCTokenizer, Wav2Vec2ForCTC, Wav2Vec2Processor"
      ],
      "metadata": {
        "execution": {
          "iopub.status.busy": "2021-12-17T23:33:23.092279Z",
          "iopub.execute_input": "2021-12-17T23:33:23.092893Z",
          "iopub.status.idle": "2021-12-17T23:33:31.917451Z",
          "shell.execute_reply.started": "2021-12-17T23:33:23.092791Z",
          "shell.execute_reply": "2021-12-17T23:33:31.916739Z"
        },
        "trusted": true,
        "id": "YKGCcIY4ap9R"
      },
      "execution_count": 2,
      "outputs": []
    },
    {
      "cell_type": "code",
      "source": [
        "#from google.colab import drive\n",
        "#drive.mount('/content/drive')"
      ],
      "metadata": {
        "id": "TAOjeHan0bPX"
      },
      "execution_count": 3,
      "outputs": []
    },
    {
      "cell_type": "code",
      "source": [
        "# chargement des données d'entrainement\n",
        "# récupération des ids et des transcriptions à partir du fichier text\n",
        "with open(\"/content/ALFFA_PUBLIC/ASR/FONGBE/data/train/text\") as file_name:\n",
        "    data_train = file_name.read().split(\"\\n\")\n",
        "\n",
        "ids = []\n",
        "textes = []\n",
        "\n",
        "for line in data_train:\n",
        "    parties = line.split(' ', 1)\n",
        "    if len(parties) == 2:\n",
        "        identifiant, texte = parties\n",
        "        ids.append(identifiant)\n",
        "        textes.append(texte)\n",
        "    else:\n",
        "        ids.append(parties[0])\n",
        "        textes.append('')\n",
        "\n",
        "df1 = pd.DataFrame({'Identifiant': ids, 'Texte': textes})\n",
        "\n",
        "# récupération des ids et des chemines audio à partir du fichier wav.scp\n",
        "with open(\"/content/ALFFA_PUBLIC/ASR/FONGBE/data/train/wav.scp\") as file_name:\n",
        "    data = file_name.read().split(\"\\n\")\n",
        "\n",
        "ids = []\n",
        "liens = []\n",
        "\n",
        "for line in data:\n",
        "    parties = line.split(' ', 1)\n",
        "    if len(parties) == 2:\n",
        "        identifiant, lien = parties\n",
        "        ids.append(identifiant)\n",
        "        liens.append(lien)\n",
        "    else:\n",
        "        ids.append(parties[0])\n",
        "        liens.append('')\n",
        "\n",
        "df2 = pd.DataFrame({'Identifiant': ids, 'Liens': liens})\n",
        "\n",
        "# Remplacer \"./data\" par \"/content/ALFFA_PUBLIC/ASR/FONGBE/data\" dans la colonne \"Liens\"\n",
        "df2['Liens'] = df2['Liens'].str.replace('./data', '/content/ALFFA_PUBLIC/ASR/FONGBE/data').str.strip()\n",
        "\n",
        "# Fusionnez les deux DataFrames sur la colonne \"Identifiant\"\n",
        "df_train = df2.merge(df1, on='Identifiant', how='inner')\n",
        "\n",
        "df_train = df_train.drop(['Identifiant'], axis=1)\n",
        "df_train = df_train.rename(columns={'Texte': 'transcription'})\n",
        "df_train = df_train.rename(columns={'Liens': 'file'})\n",
        "df_train = df_train.replace('', pd.NA).dropna()"
      ],
      "metadata": {
        "colab": {
          "base_uri": "https://localhost:8080/"
        },
        "id": "0hIuA1dOQaHb",
        "outputId": "4e9b9c6a-1d17-45f5-b624-10183c9b6448"
      },
      "execution_count": 4,
      "outputs": [
        {
          "output_type": "stream",
          "name": "stderr",
          "text": [
            "<ipython-input-4-6c777c4972f5>:41: FutureWarning: The default value of regex will change from True to False in a future version.\n",
            "  df2['Liens'] = df2['Liens'].str.replace('./data', '/content/ALFFA_PUBLIC/ASR/FONGBE/data').str.strip()\n"
          ]
        }
      ]
    },
    {
      "cell_type": "code",
      "source": [
        "# chargement des données test\n",
        "# récupération des ids et des transcriptions à partir du fichier text\n",
        "with open(\"/content/ALFFA_PUBLIC/ASR/FONGBE/data/test/text\") as file_name:\n",
        "    data_test = file_name.read().split(\"\\n\")\n",
        "\n",
        "ids = []\n",
        "textes = []\n",
        "\n",
        "for line in data_test:\n",
        "    parties = line.split(' ', 1)\n",
        "    if len(parties) == 2:\n",
        "        identifiant, texte = parties\n",
        "        ids.append(identifiant)\n",
        "        textes.append(texte)\n",
        "    else:\n",
        "        ids.append(parties[0])\n",
        "        textes.append('')\n",
        "\n",
        "df1 = pd.DataFrame({'Identifiant': ids, 'Texte': textes})\n",
        "\n",
        "# récupération des ids et des chemines audio à partir du fichier wav.scp\n",
        "with open(\"/content/ALFFA_PUBLIC/ASR/FONGBE/data/test/wav.scp\") as file_name:\n",
        "    data = file_name.read().split(\"\\n\")\n",
        "\n",
        "ids = []\n",
        "liens = []\n",
        "\n",
        "for line in data:\n",
        "    parties = line.split(' ', 1)\n",
        "    if len(parties) == 2:\n",
        "        identifiant, lien = parties\n",
        "        ids.append(identifiant)\n",
        "        liens.append(lien)\n",
        "    else:\n",
        "        ids.append(parties[0])\n",
        "        liens.append('')\n",
        "\n",
        "df2 = pd.DataFrame({'Identifiant': ids, 'Liens': liens})\n",
        "\n",
        "# Remplacer \"./data\" par \"/content/ALFFA_PUBLIC/ASR/FONGBE/data\" dans la colonne \"Liens\"\n",
        "df2['Liens'] = df2['Liens'].str.replace('./data', '/content/ALFFA_PUBLIC/ASR/FONGBE/data').str.strip()\n",
        "\n",
        "# Fusionnez les deux DataFrames sur la colonne \"Identifiant\"\n",
        "df_test = df2.merge(df1, on='Identifiant', how='inner')\n",
        "\n",
        "df_test = df_test.drop(['Identifiant'], axis=1)\n",
        "df_test = df_test.rename(columns={'Texte': 'transcription'})\n",
        "df_test = df_test.rename(columns={'Liens': 'file'})\n",
        "df_test = df_test.replace('', pd.NA).dropna()"
      ],
      "metadata": {
        "colab": {
          "base_uri": "https://localhost:8080/"
        },
        "id": "W2y3V_jyfW-4",
        "outputId": "a015be83-4c9b-47cc-bd89-2c3b711d5957"
      },
      "execution_count": 5,
      "outputs": [
        {
          "output_type": "stream",
          "name": "stderr",
          "text": [
            "<ipython-input-5-4012012bd243>:41: FutureWarning: The default value of regex will change from True to False in a future version.\n",
            "  df2['Liens'] = df2['Liens'].str.replace('./data', '/content/ALFFA_PUBLIC/ASR/FONGBE/data').str.strip()\n"
          ]
        }
      ]
    },
    {
      "cell_type": "code",
      "source": [
        "def show_random_elements(dataset, num_examples=10):\n",
        "    assert num_examples <= len(dataset), \"Can't pick more elements than there are in the dataset.\"\n",
        "    picks = []\n",
        "    for _ in range(num_examples):\n",
        "        pick = random.randint(0, len(dataset)-1)\n",
        "        while pick in picks:\n",
        "            pick = random.randint(0, len(dataset)-1)\n",
        "        picks.append(pick)\n",
        "\n",
        "    df = pd.DataFrame(dataset[picks])\n",
        "    display(HTML(df.to_html()))"
      ],
      "metadata": {
        "execution": {
          "iopub.status.busy": "2021-12-17T23:34:00.958299Z",
          "iopub.execute_input": "2021-12-17T23:34:00.959046Z",
          "iopub.status.idle": "2021-12-17T23:34:00.965411Z",
          "shell.execute_reply.started": "2021-12-17T23:34:00.958996Z",
          "shell.execute_reply": "2021-12-17T23:34:00.964529Z"
        },
        "trusted": true,
        "id": "0mN1zOs6ap9c"
      },
      "execution_count": 6,
      "outputs": []
    },
    {
      "cell_type": "code",
      "source": [
        "fongbe = DatasetDict({'train': Dataset.from_pandas(df_train), 'test': Dataset.from_pandas(df_test)})"
      ],
      "metadata": {
        "execution": {
          "iopub.status.busy": "2021-12-17T23:34:01.843226Z",
          "iopub.execute_input": "2021-12-17T23:34:01.843499Z",
          "iopub.status.idle": "2021-12-17T23:34:01.874083Z",
          "shell.execute_reply.started": "2021-12-17T23:34:01.843468Z",
          "shell.execute_reply": "2021-12-17T23:34:01.873299Z"
        },
        "trusted": true,
        "id": "1ryDBeS6ap9c"
      },
      "execution_count": 7,
      "outputs": []
    },
    {
      "cell_type": "code",
      "source": [
        "fongbe"
      ],
      "metadata": {
        "colab": {
          "base_uri": "https://localhost:8080/"
        },
        "id": "neGd0T9l3Gxp",
        "outputId": "103a0bbe-3607-4bb6-bebd-25031c7ff48e"
      },
      "execution_count": 8,
      "outputs": [
        {
          "output_type": "execute_result",
          "data": {
            "text/plain": [
              "DatasetDict({\n",
              "    train: Dataset({\n",
              "        features: ['file', 'transcription', '__index_level_0__'],\n",
              "        num_rows: 8234\n",
              "    })\n",
              "    test: Dataset({\n",
              "        features: ['file', 'transcription', '__index_level_0__'],\n",
              "        num_rows: 2168\n",
              "    })\n",
              "})"
            ]
          },
          "metadata": {},
          "execution_count": 8
        }
      ]
    },
    {
      "cell_type": "code",
      "source": [
        "chars_to_ignore_regex = '[\\\"\\?\\.\\!\\-\\;\\:\\(\\)\\,]'\n",
        "\n",
        "def remove_special_characters(batch):\n",
        "    batch[\"transcription\"] = re.sub(chars_to_ignore_regex, '', batch[\"transcription\"]).lower() + \" \"\n",
        "    return batch"
      ],
      "metadata": {
        "execution": {
          "iopub.status.busy": "2021-12-17T23:34:02.952881Z",
          "iopub.execute_input": "2021-12-17T23:34:02.953398Z",
          "iopub.status.idle": "2021-12-17T23:34:02.957971Z",
          "shell.execute_reply.started": "2021-12-17T23:34:02.953362Z",
          "shell.execute_reply": "2021-12-17T23:34:02.956947Z"
        },
        "trusted": true,
        "id": "ywGYaQzMap9d"
      },
      "execution_count": 9,
      "outputs": []
    },
    {
      "cell_type": "code",
      "source": [
        "fongbe = fongbe.map(remove_special_characters)"
      ],
      "metadata": {
        "execution": {
          "iopub.status.busy": "2021-12-17T23:34:04.114207Z",
          "iopub.execute_input": "2021-12-17T23:34:04.114712Z",
          "iopub.status.idle": "2021-12-17T23:34:05.527452Z",
          "shell.execute_reply.started": "2021-12-17T23:34:04.114657Z",
          "shell.execute_reply": "2021-12-17T23:34:05.526743Z"
        },
        "trusted": true,
        "id": "HOzW_vjEap9d",
        "colab": {
          "base_uri": "https://localhost:8080/",
          "height": 81,
          "referenced_widgets": [
            "3b8964be83b3457bb3004a167b0a7004",
            "c841a2f216574e6c9b98978c3ca01d9f",
            "5db31431f554492db2ce2b2b801ea2ac",
            "e6ef478a8a224da6913012862bc3c893",
            "273ccd7af16d41a7b46eca9bc78e4801",
            "354ec35135804b80b6ccd1a27b77db57",
            "1a9e37a34e2742679fac25c252b36b55",
            "e148c8eae1ba4d3ba010df3f8ad6104c",
            "6e2c3ffd6f7140a4a6a55c106e59dc61",
            "cf1a68556d7d4851a035b3a64a3c63d7",
            "0a1a59e9c18a405cb5ee9dbdcf48ab6a",
            "8dc55cd28f0140759b91846601ba3d6f",
            "75000c74641a417e931a392296aaf525",
            "914b0644ac734337a70e465741a6c175",
            "55c7aede9a6842dd86f878a89f764669",
            "f6c00749a0c040dd98dbd6f37abd064c",
            "d77be1758c314dddafcb58f1f3a30ad8",
            "2210c3808b574b2a8650f5e8a48d9973",
            "d90f0b0e89a343a8a387fba724d99fb1",
            "0b6eac7f45a043bda54e2a44001506b7",
            "38a3fb4d6a7c4e1d8f88e1b3e4f47603",
            "54779ff74df44907b14794ed0186990a"
          ]
        },
        "outputId": "e88c9579-9cbb-4b24-d850-3dd675cb65e5"
      },
      "execution_count": 10,
      "outputs": [
        {
          "output_type": "display_data",
          "data": {
            "text/plain": [
              "Map:   0%|          | 0/8234 [00:00<?, ? examples/s]"
            ],
            "application/vnd.jupyter.widget-view+json": {
              "version_major": 2,
              "version_minor": 0,
              "model_id": "3b8964be83b3457bb3004a167b0a7004"
            }
          },
          "metadata": {}
        },
        {
          "output_type": "display_data",
          "data": {
            "text/plain": [
              "Map:   0%|          | 0/2168 [00:00<?, ? examples/s]"
            ],
            "application/vnd.jupyter.widget-view+json": {
              "version_major": 2,
              "version_minor": 0,
              "model_id": "8dc55cd28f0140759b91846601ba3d6f"
            }
          },
          "metadata": {}
        }
      ]
    },
    {
      "cell_type": "code",
      "source": [
        "show_random_elements(fongbe['train'], num_examples=1)"
      ],
      "metadata": {
        "execution": {
          "iopub.status.busy": "2021-12-17T23:34:06.904303Z",
          "iopub.execute_input": "2021-12-17T23:34:06.90457Z",
          "iopub.status.idle": "2021-12-17T23:34:06.915451Z",
          "shell.execute_reply.started": "2021-12-17T23:34:06.904541Z",
          "shell.execute_reply": "2021-12-17T23:34:06.914487Z"
        },
        "trusted": true,
        "id": "sIuo2wydap9d",
        "colab": {
          "base_uri": "https://localhost:8080/",
          "height": 101
        },
        "outputId": "e43db27c-2df7-43c1-dad0-aa9bb4fea367"
      },
      "execution_count": 11,
      "outputs": [
        {
          "output_type": "display_data",
          "data": {
            "text/plain": [
              "<IPython.core.display.HTML object>"
            ],
            "text/html": [
              "<table border=\"1\" class=\"dataframe\">\n",
              "  <thead>\n",
              "    <tr style=\"text-align: right;\">\n",
              "      <th></th>\n",
              "      <th>file</th>\n",
              "      <th>transcription</th>\n",
              "      <th>__index_level_0__</th>\n",
              "    </tr>\n",
              "  </thead>\n",
              "  <tbody>\n",
              "    <tr>\n",
              "      <th>0</th>\n",
              "      <td>/content/ALFFA_PUBLIC/ASR/FONGBE/data/train/wav/denise/denise_fongbe_corp012_010.wav</td>\n",
              "      <td>e ɖo glagla ɖu wε</td>\n",
              "      <td>844</td>\n",
              "    </tr>\n",
              "  </tbody>\n",
              "</table>"
            ]
          },
          "metadata": {}
        }
      ]
    },
    {
      "cell_type": "code",
      "source": [
        "def extract_all_chars(batch):\n",
        "    all_text = \" \".join(batch[\"transcription\"])\n",
        "    vocab = list(set(all_text))\n",
        "    return {\"vocab\": [vocab], \"all_text\": [all_text]}"
      ],
      "metadata": {
        "execution": {
          "iopub.status.busy": "2021-12-17T23:34:07.967812Z",
          "iopub.execute_input": "2021-12-17T23:34:07.968523Z",
          "iopub.status.idle": "2021-12-17T23:34:07.973832Z",
          "shell.execute_reply.started": "2021-12-17T23:34:07.968464Z",
          "shell.execute_reply": "2021-12-17T23:34:07.97301Z"
        },
        "trusted": true,
        "id": "fLBVJ6Faap9e"
      },
      "execution_count": 12,
      "outputs": []
    },
    {
      "cell_type": "code",
      "source": [
        "vocabs = fongbe.map(extract_all_chars, batched=True, batch_size=-1, keep_in_memory=True, remove_columns=fongbe.column_names[\"train\"])"
      ],
      "metadata": {
        "execution": {
          "iopub.status.busy": "2021-12-17T23:34:09.480614Z",
          "iopub.execute_input": "2021-12-17T23:34:09.48094Z",
          "iopub.status.idle": "2021-12-17T23:34:09.708877Z",
          "shell.execute_reply.started": "2021-12-17T23:34:09.480904Z",
          "shell.execute_reply": "2021-12-17T23:34:09.708236Z"
        },
        "trusted": true,
        "id": "DXwTRRKvap9e",
        "colab": {
          "base_uri": "https://localhost:8080/",
          "height": 81,
          "referenced_widgets": [
            "043e54d2c0a34ef384b3091a18503eb4",
            "86020974017f4753ba34b3d2450a13fc",
            "be279b0ff5654e028d585406f78a43ef",
            "b929e6e545174105acfa9d0026ce90ff",
            "3fdd493975804fa5abc081d5542c17d1",
            "c59284dac06f4ca0b7ef0e5f45ba57cd",
            "f94cb9949a0a4297b47687838b310bc5",
            "f308884afe784758a8bd5e877c0118c0",
            "a631c4525e4f4a6aa69adfb30ad9a248",
            "a9c141282c874b7f906f7ea3de5022ec",
            "4c89dab4276745aa93a2927afc77247c",
            "818268452cc741ff87528a729a4c4a2a",
            "e7df1b45e5c54888a92e14ce24ef2cec",
            "a16deade21054996b5bd5b2888a3cabf",
            "08dbc50862eb491e9320b4a9a85ba314",
            "3179e23e56a74e4ca9b5006141eec4de",
            "8a8ee9ce00b644c2bf783e419632a2b5",
            "84ecbc29e142499296103245bbb9464b",
            "283ee9c443624dcea0b041d30d03b473",
            "581441f22a884f5384d98b95a4ce9ab3",
            "fa9e1b09e63047b8b1b131fbdf636f32",
            "1f5251c36fef4534aad06eea8e64aa42"
          ]
        },
        "outputId": "9642c627-7715-4623-9b6c-29df171cc5b8"
      },
      "execution_count": 13,
      "outputs": [
        {
          "output_type": "display_data",
          "data": {
            "text/plain": [
              "Map:   0%|          | 0/8234 [00:00<?, ? examples/s]"
            ],
            "application/vnd.jupyter.widget-view+json": {
              "version_major": 2,
              "version_minor": 0,
              "model_id": "043e54d2c0a34ef384b3091a18503eb4"
            }
          },
          "metadata": {}
        },
        {
          "output_type": "display_data",
          "data": {
            "text/plain": [
              "Map:   0%|          | 0/2168 [00:00<?, ? examples/s]"
            ],
            "application/vnd.jupyter.widget-view+json": {
              "version_major": 2,
              "version_minor": 0,
              "model_id": "818268452cc741ff87528a729a4c4a2a"
            }
          },
          "metadata": {}
        }
      ]
    },
    {
      "cell_type": "code",
      "source": [
        "vocab_list = list(set(vocabs[\"train\"][\"vocab\"][0]))\n"
      ],
      "metadata": {
        "execution": {
          "iopub.status.busy": "2021-12-17T23:34:10.583253Z",
          "iopub.execute_input": "2021-12-17T23:34:10.5835Z",
          "iopub.status.idle": "2021-12-17T23:34:10.587706Z",
          "shell.execute_reply.started": "2021-12-17T23:34:10.583471Z",
          "shell.execute_reply": "2021-12-17T23:34:10.587043Z"
        },
        "trusted": true,
        "id": "AyKiAtwxap9e"
      },
      "execution_count": 14,
      "outputs": []
    },
    {
      "cell_type": "code",
      "source": [
        "vocab_list"
      ],
      "metadata": {
        "colab": {
          "base_uri": "https://localhost:8080/"
        },
        "id": "trNoYUF28Ifm",
        "outputId": "7898c91d-88c2-4630-f88f-f885af838438"
      },
      "execution_count": 15,
      "outputs": [
        {
          "output_type": "execute_result",
          "data": {
            "text/plain": [
              "[' ',\n",
              " 'á',\n",
              " 't',\n",
              " 'ó',\n",
              " 'g',\n",
              " 'ɔ',\n",
              " 'w',\n",
              " 'ε',\n",
              " 'é',\n",
              " 'z',\n",
              " 'è',\n",
              " '̀',\n",
              " 'ὲ',\n",
              " 'ɖ',\n",
              " 'ò',\n",
              " '̆',\n",
              " 'h',\n",
              " 'v',\n",
              " 's',\n",
              " 'ù',\n",
              " 'ì',\n",
              " 'p',\n",
              " 'ú',\n",
              " 'ŏ',\n",
              " 'ĕ',\n",
              " 'o',\n",
              " 'à',\n",
              " 'i',\n",
              " 'j',\n",
              " 'r',\n",
              " 'k',\n",
              " 'n',\n",
              " 'ĭ',\n",
              " 'u',\n",
              " 'm',\n",
              " 'c',\n",
              " 'a',\n",
              " '́',\n",
              " 'x',\n",
              " 'd',\n",
              " 'b',\n",
              " 'l',\n",
              " 'e',\n",
              " 'f',\n",
              " 'έ',\n",
              " 'í',\n",
              " 'ɛ',\n",
              " 'y',\n",
              " 'ŭ']"
            ]
          },
          "metadata": {},
          "execution_count": 15
        }
      ]
    },
    {
      "cell_type": "code",
      "source": [
        "vocab_dict = {v: k for k, v in enumerate(vocab_list)}\n",
        "vocab_dict"
      ],
      "metadata": {
        "execution": {
          "iopub.status.busy": "2021-12-17T23:34:11.707606Z",
          "iopub.execute_input": "2021-12-17T23:34:11.708142Z",
          "iopub.status.idle": "2021-12-17T23:34:11.714102Z",
          "shell.execute_reply.started": "2021-12-17T23:34:11.708105Z",
          "shell.execute_reply": "2021-12-17T23:34:11.713443Z"
        },
        "trusted": true,
        "id": "Ym9DPb4Wap9e",
        "colab": {
          "base_uri": "https://localhost:8080/"
        },
        "outputId": "93bfb144-f395-4ee1-b5aa-8627a07d9b32"
      },
      "execution_count": 16,
      "outputs": [
        {
          "output_type": "execute_result",
          "data": {
            "text/plain": [
              "{' ': 0,\n",
              " 'á': 1,\n",
              " 't': 2,\n",
              " 'ó': 3,\n",
              " 'g': 4,\n",
              " 'ɔ': 5,\n",
              " 'w': 6,\n",
              " 'ε': 7,\n",
              " 'é': 8,\n",
              " 'z': 9,\n",
              " 'è': 10,\n",
              " '̀': 11,\n",
              " 'ὲ': 12,\n",
              " 'ɖ': 13,\n",
              " 'ò': 14,\n",
              " '̆': 15,\n",
              " 'h': 16,\n",
              " 'v': 17,\n",
              " 's': 18,\n",
              " 'ù': 19,\n",
              " 'ì': 20,\n",
              " 'p': 21,\n",
              " 'ú': 22,\n",
              " 'ŏ': 23,\n",
              " 'ĕ': 24,\n",
              " 'o': 25,\n",
              " 'à': 26,\n",
              " 'i': 27,\n",
              " 'j': 28,\n",
              " 'r': 29,\n",
              " 'k': 30,\n",
              " 'n': 31,\n",
              " 'ĭ': 32,\n",
              " 'u': 33,\n",
              " 'm': 34,\n",
              " 'c': 35,\n",
              " 'a': 36,\n",
              " '́': 37,\n",
              " 'x': 38,\n",
              " 'd': 39,\n",
              " 'b': 40,\n",
              " 'l': 41,\n",
              " 'e': 42,\n",
              " 'f': 43,\n",
              " 'έ': 44,\n",
              " 'í': 45,\n",
              " 'ɛ': 46,\n",
              " 'y': 47,\n",
              " 'ŭ': 48}"
            ]
          },
          "metadata": {},
          "execution_count": 16
        }
      ]
    },
    {
      "cell_type": "code",
      "source": [
        "vocab_dict[\"|\"] = vocab_dict[\" \"]\n",
        "del vocab_dict[\" \"]"
      ],
      "metadata": {
        "execution": {
          "iopub.status.busy": "2021-12-17T23:34:12.951124Z",
          "iopub.execute_input": "2021-12-17T23:34:12.951657Z",
          "iopub.status.idle": "2021-12-17T23:34:12.955078Z",
          "shell.execute_reply.started": "2021-12-17T23:34:12.95162Z",
          "shell.execute_reply": "2021-12-17T23:34:12.954395Z"
        },
        "trusted": true,
        "id": "E0BkksBnap9f"
      },
      "execution_count": 17,
      "outputs": []
    },
    {
      "cell_type": "code",
      "source": [
        "vocab_dict[\"[UNK]\"] = len(vocab_dict)\n",
        "vocab_dict[\"[PAD]\"] = len(vocab_dict)\n",
        "len(vocab_dict)"
      ],
      "metadata": {
        "execution": {
          "iopub.status.busy": "2021-12-17T23:34:14.244425Z",
          "iopub.execute_input": "2021-12-17T23:34:14.24521Z",
          "iopub.status.idle": "2021-12-17T23:34:14.253867Z",
          "shell.execute_reply.started": "2021-12-17T23:34:14.245164Z",
          "shell.execute_reply": "2021-12-17T23:34:14.253051Z"
        },
        "trusted": true,
        "id": "NuoIEay6ap9f",
        "colab": {
          "base_uri": "https://localhost:8080/"
        },
        "outputId": "c36de68a-09e5-49e5-d796-24a96992d553"
      },
      "execution_count": 18,
      "outputs": [
        {
          "output_type": "execute_result",
          "data": {
            "text/plain": [
              "51"
            ]
          },
          "metadata": {},
          "execution_count": 18
        }
      ]
    },
    {
      "cell_type": "code",
      "source": [
        "with open('vocab.json', 'w') as vocab_file:\n",
        "    json.dump(vocab_dict, vocab_file)"
      ],
      "metadata": {
        "execution": {
          "iopub.status.busy": "2021-12-17T23:34:16.104363Z",
          "iopub.execute_input": "2021-12-17T23:34:16.104935Z",
          "iopub.status.idle": "2021-12-17T23:34:16.109822Z",
          "shell.execute_reply.started": "2021-12-17T23:34:16.104896Z",
          "shell.execute_reply": "2021-12-17T23:34:16.108824Z"
        },
        "trusted": true,
        "id": "fursi2sCap9f"
      },
      "execution_count": 19,
      "outputs": []
    },
    {
      "cell_type": "code",
      "source": [
        "tokenizer = Wav2Vec2CTCTokenizer(\"/content/vocab.json\", unk_token=\"[UNK]\", pad_token=\"[PAD]\", word_delimiter_token=\"|\")"
      ],
      "metadata": {
        "execution": {
          "iopub.status.busy": "2021-12-17T23:34:17.144206Z",
          "iopub.execute_input": "2021-12-17T23:34:17.144742Z",
          "iopub.status.idle": "2021-12-17T23:34:17.149336Z",
          "shell.execute_reply.started": "2021-12-17T23:34:17.144703Z",
          "shell.execute_reply": "2021-12-17T23:34:17.148359Z"
        },
        "trusted": true,
        "id": "bHcq0Hm_ap9g"
      },
      "execution_count": 20,
      "outputs": []
    },
    {
      "cell_type": "code",
      "source": [
        "from transformers import Wav2Vec2FeatureExtractor\n",
        "feature_extractor = Wav2Vec2FeatureExtractor(feature_size=1, sampling_rate=16000, padding_value=0.0, do_normalize=True, return_attention_mask=True)"
      ],
      "metadata": {
        "execution": {
          "iopub.status.busy": "2021-12-17T23:34:18.612167Z",
          "iopub.execute_input": "2021-12-17T23:34:18.612845Z",
          "iopub.status.idle": "2021-12-17T23:34:18.617197Z",
          "shell.execute_reply.started": "2021-12-17T23:34:18.612808Z",
          "shell.execute_reply": "2021-12-17T23:34:18.616441Z"
        },
        "trusted": true,
        "id": "BN3jDTUeap9g"
      },
      "execution_count": 21,
      "outputs": []
    },
    {
      "cell_type": "code",
      "source": [
        "from transformers import Wav2Vec2Processor\n",
        "processor = Wav2Vec2Processor(feature_extractor=feature_extractor, tokenizer=tokenizer)"
      ],
      "metadata": {
        "execution": {
          "iopub.status.busy": "2021-12-17T23:34:19.657585Z",
          "iopub.execute_input": "2021-12-17T23:34:19.658253Z",
          "iopub.status.idle": "2021-12-17T23:34:19.661895Z",
          "shell.execute_reply.started": "2021-12-17T23:34:19.658216Z",
          "shell.execute_reply": "2021-12-17T23:34:19.661028Z"
        },
        "trusted": true,
        "id": "YXm64oi4ap9g"
      },
      "execution_count": 22,
      "outputs": []
    },
    {
      "cell_type": "code",
      "source": [
        "#import soundfile as sf\n",
        "import librosa\n",
        "import warnings\n",
        "\n",
        "warnings.filterwarnings(\"ignore\")\n",
        "\n",
        "def speech_file_to_array_fn(batch):\n",
        "    speech_array, sampling_rate = librosa.load(batch['file'], sr = 16000)\n",
        "    batch[\"speech\"] = speech_array\n",
        "    batch[\"sampling_rate\"] = sampling_rate\n",
        "    batch[\"target_text\"] = batch[\"transcription\"]\n",
        "    return batch"
      ],
      "metadata": {
        "execution": {
          "iopub.status.busy": "2021-12-17T23:34:20.915434Z",
          "iopub.execute_input": "2021-12-17T23:34:20.916012Z",
          "iopub.status.idle": "2021-12-17T23:34:20.920661Z",
          "shell.execute_reply.started": "2021-12-17T23:34:20.915972Z",
          "shell.execute_reply": "2021-12-17T23:34:20.919998Z"
        },
        "trusted": true,
        "id": "6CzPyS-gap9h"
      },
      "execution_count": 23,
      "outputs": []
    },
    {
      "cell_type": "code",
      "source": [
        "fongbe = fongbe.map(speech_file_to_array_fn, remove_columns=fongbe.column_names[\"train\"], num_proc=1)"
      ],
      "metadata": {
        "execution": {
          "iopub.status.busy": "2021-12-17T23:34:22.120698Z",
          "iopub.execute_input": "2021-12-17T23:34:22.121248Z",
          "iopub.status.idle": "2021-12-17T23:36:17.528619Z",
          "shell.execute_reply.started": "2021-12-17T23:34:22.121208Z",
          "shell.execute_reply": "2021-12-17T23:36:17.527895Z"
        },
        "trusted": true,
        "id": "oIFz2s2Wap9h",
        "colab": {
          "base_uri": "https://localhost:8080/",
          "height": 81,
          "referenced_widgets": [
            "c122bf0562c14683afa061a32f0ef0f3",
            "473ee5f3cfab4fe5a1979f50b437c2e6",
            "8a436027884f4c8d8c9e642899777bb7",
            "5b3c27d2218344f79e4cb347b2a8f7a4",
            "e5cf33906cd9495ea7eefaaca9fd3e2b",
            "44be4b213c0f40e3a940f4bd837ea6c7",
            "54b4fa1555864aaf9a68e5b61d5f372b",
            "232457e1ebd24d4f8a8267b032ac6918",
            "c841785d707c4147bf25a7065cd9aa8e",
            "566396fada7b43b497125a501b87e17e",
            "ae0c5943850a4977aa8367070b0a6713",
            "ffedcc44681c4f7ba40928dd9ecd1d96",
            "484e51aa5f6c404f8be49c0fd1b838b3",
            "9fc9d1c442644f689bf2bbeb03fe616d",
            "e20321288b9d4d89b84fbfee813a9bb6",
            "223fa00a57854ba5bb1f6a4082ea68bf",
            "353c69712ed244799fa6f1631295b10e",
            "507cdf6dc094450dbe8f6060b8f09266",
            "352010cd9fd0468282c77f5d79755a1d",
            "34301ce5e2114094bca6b905401ef41a",
            "b0316dcfe86f4d94b6b25c1643d56f21",
            "185689a1f5f1484b8a203c12b8f7a3e8"
          ]
        },
        "outputId": "a0cf07ac-2f50-435b-c738-9b94efbf5a0e"
      },
      "execution_count": 24,
      "outputs": [
        {
          "output_type": "display_data",
          "data": {
            "text/plain": [
              "Map:   0%|          | 0/8234 [00:00<?, ? examples/s]"
            ],
            "application/vnd.jupyter.widget-view+json": {
              "version_major": 2,
              "version_minor": 0,
              "model_id": "c122bf0562c14683afa061a32f0ef0f3"
            }
          },
          "metadata": {}
        },
        {
          "output_type": "display_data",
          "data": {
            "text/plain": [
              "Map:   0%|          | 0/2168 [00:00<?, ? examples/s]"
            ],
            "application/vnd.jupyter.widget-view+json": {
              "version_major": 2,
              "version_minor": 0,
              "model_id": "ffedcc44681c4f7ba40928dd9ecd1d96"
            }
          },
          "metadata": {}
        }
      ]
    },
    {
      "cell_type": "code",
      "source": [
        "def prepare_dataset(batch):\n",
        "    # check that all files have the correct sampling rate\n",
        "    assert (\n",
        "        len(set(batch[\"sampling_rate\"])) == 1\n",
        "    ), f\"Make sure all inputs have the same sampling rate of {processor.feature_extractor.sampling_rate}.\"\n",
        "\n",
        "    batch[\"input_values\"] = processor(batch[\"speech\"], sampling_rate=batch[\"sampling_rate\"][0]).input_values\n",
        "\n",
        "    with processor.as_target_processor():\n",
        "        batch[\"labels\"] = processor(batch[\"target_text\"]).input_ids\n",
        "    return batch"
      ],
      "metadata": {
        "execution": {
          "iopub.status.busy": "2021-12-17T23:36:30.695577Z",
          "iopub.execute_input": "2021-12-17T23:36:30.695849Z",
          "iopub.status.idle": "2021-12-17T23:36:30.701147Z",
          "shell.execute_reply.started": "2021-12-17T23:36:30.695817Z",
          "shell.execute_reply": "2021-12-17T23:36:30.700325Z"
        },
        "trusted": true,
        "id": "IJvKnFAZap9h"
      },
      "execution_count": 25,
      "outputs": []
    },
    {
      "cell_type": "code",
      "source": [
        "fongbe_prepared = fongbe.map(prepare_dataset, remove_columns=fongbe.column_names[\"train\"], batch_size=32, batched=True)"
      ],
      "metadata": {
        "execution": {
          "iopub.status.busy": "2021-12-17T23:36:32.930364Z",
          "iopub.execute_input": "2021-12-17T23:36:32.93064Z",
          "iopub.status.idle": "2021-12-17T23:46:49.763741Z",
          "shell.execute_reply.started": "2021-12-17T23:36:32.93061Z",
          "shell.execute_reply": "2021-12-17T23:46:49.762864Z"
        },
        "trusted": true,
        "id": "tgyE-FoEap9h",
        "colab": {
          "base_uri": "https://localhost:8080/",
          "height": 81,
          "referenced_widgets": [
            "b6814967db4448a2b2b36f064d8a68ba",
            "16c1843a14124d0ea149026db03dba43",
            "5580f9c222eb4c9c9fe1898302ae08b9",
            "dd57c0738a4f4460ba454b5dc96768c8",
            "cd248f8774e644d4985c730fa62b8cc3",
            "588c0025c3e7497e85e259d00c54154f",
            "7200642736244e3ba3bdc812b76449a7",
            "040cbe950b30493789683c9d7e4639c2",
            "10bc12bb48cc4171aba556c5fb70fe16",
            "677795e42e9b4631907251648f82e1ff",
            "5207358435684ebca4aced2a881fdd1d",
            "37a4b8cf4ac743ecbb00e90cac32e958",
            "03b293de9e2b4e9cbdd4af116f2989d4",
            "d76837e8550745e1874e509bb184226e",
            "2be3e5ec8704436083c3808302c0efdd",
            "c0b58578134643f6958499bc40e5cdf6",
            "dd206a7f927d4f0e90b1bbb9cfa02850",
            "5eb7305eeaa34680a3f7188badfb3c90",
            "b9d5cb90443747b69e6e3cc787ec29fa",
            "434824833da44e9f8fa57ff023e364b6",
            "27330a8e479e47219b28c49584e0296f",
            "4ad5512ba253413b923a77d601eb5ae5"
          ]
        },
        "outputId": "097c765e-d89c-497d-e448-bc2710f47f55"
      },
      "execution_count": 26,
      "outputs": [
        {
          "output_type": "display_data",
          "data": {
            "text/plain": [
              "Map:   0%|          | 0/8234 [00:00<?, ? examples/s]"
            ],
            "application/vnd.jupyter.widget-view+json": {
              "version_major": 2,
              "version_minor": 0,
              "model_id": "b6814967db4448a2b2b36f064d8a68ba"
            }
          },
          "metadata": {}
        },
        {
          "output_type": "display_data",
          "data": {
            "text/plain": [
              "Map:   0%|          | 0/2168 [00:00<?, ? examples/s]"
            ],
            "application/vnd.jupyter.widget-view+json": {
              "version_major": 2,
              "version_minor": 0,
              "model_id": "37a4b8cf4ac743ecbb00e90cac32e958"
            }
          },
          "metadata": {}
        }
      ]
    },
    {
      "cell_type": "code",
      "source": [
        "@dataclass\n",
        "class DataCollatorCTCWithPadding:\n",
        "    \"\"\"\n",
        "    Data collator that will dynamically pad the inputs received.\n",
        "    Args:\n",
        "        processor (:class:`~transformers.Wav2Vec2Processor`)\n",
        "            The processor used for proccessing the data.\n",
        "        padding (:obj:`bool`, :obj:`str` or :class:`~transformers.tokenization_utils_base.PaddingStrategy`, `optional`, defaults to :obj:`True`):\n",
        "            Select a strategy to pad the returned sequences (according to the model's padding side and padding index)\n",
        "            among:\n",
        "            * :obj:`True` or :obj:`'longest'`: Pad to the longest sequence in the batch (or no padding if only a single\n",
        "              sequence if provided).\n",
        "            * :obj:`'max_length'`: Pad to a maximum length specified with the argument :obj:`max_length` or to the\n",
        "              maximum acceptable input length for the model if that argument is not provided.\n",
        "            * :obj:`False` or :obj:`'do_not_pad'` (default): No padding (i.e., can output a batch with sequences of\n",
        "              different lengths).\n",
        "        max_length (:obj:`int`, `optional`):\n",
        "            Maximum length of the ``input_values`` of the returned list and optionally padding length (see above).\n",
        "        max_length_labels (:obj:`int`, `optional`):\n",
        "            Maximum length of the ``labels`` returned list and optionally padding length (see above).\n",
        "        pad_to_multiple_of (:obj:`int`, `optional`):\n",
        "            If set will pad the sequence to a multiple of the provided value.\n",
        "            This is especially useful to enable the use of Tensor Cores on NVIDIA hardware with compute capability >=\n",
        "            7.5 (Volta).\n",
        "    \"\"\"\n",
        "\n",
        "    processor: Wav2Vec2Processor\n",
        "    padding: Union[bool, str] = True\n",
        "    max_length: Optional[int] = None\n",
        "    max_length_labels: Optional[int] = None\n",
        "    pad_to_multiple_of: Optional[int] = None\n",
        "    pad_to_multiple_of_labels: Optional[int] = None\n",
        "\n",
        "    def __call__(self, features: List[Dict[str, Union[List[int], torch.Tensor]]]) -> Dict[str, torch.Tensor]:\n",
        "        # split inputs and labels since they have to be of different lenghts and need\n",
        "        # different padding methods\n",
        "        input_features = [{\"input_values\": feature[\"input_values\"]} for feature in features]\n",
        "        label_features = [{\"input_ids\": feature[\"labels\"]} for feature in features]\n",
        "\n",
        "        batch = self.processor.pad(\n",
        "            input_features,\n",
        "            padding=self.padding,\n",
        "            max_length=self.max_length,\n",
        "            pad_to_multiple_of=self.pad_to_multiple_of,\n",
        "            return_tensors=\"pt\",\n",
        "        )\n",
        "        with self.processor.as_target_processor():\n",
        "            labels_batch = self.processor.pad(\n",
        "                label_features,\n",
        "                padding=self.padding,\n",
        "                max_length=self.max_length_labels,\n",
        "                pad_to_multiple_of=self.pad_to_multiple_of_labels,\n",
        "                return_tensors=\"pt\",\n",
        "            )\n",
        "\n",
        "        # replace padding with -100 to ignore loss correctly\n",
        "        labels = labels_batch[\"input_ids\"].masked_fill(labels_batch.attention_mask.ne(1), -100)\n",
        "\n",
        "        batch[\"labels\"] = labels\n",
        "\n",
        "        return batch"
      ],
      "metadata": {
        "execution": {
          "iopub.status.busy": "2021-12-17T23:49:15.290891Z",
          "iopub.execute_input": "2021-12-17T23:49:15.291313Z",
          "iopub.status.idle": "2021-12-17T23:49:15.304044Z",
          "shell.execute_reply.started": "2021-12-17T23:49:15.291272Z",
          "shell.execute_reply": "2021-12-17T23:49:15.301606Z"
        },
        "trusted": true,
        "id": "owEmE9xWap9h"
      },
      "execution_count": 27,
      "outputs": []
    },
    {
      "cell_type": "code",
      "source": [
        "data_collator = DataCollatorCTCWithPadding(processor=processor, padding=True)"
      ],
      "metadata": {
        "execution": {
          "iopub.status.busy": "2021-12-17T23:49:16.465334Z",
          "iopub.execute_input": "2021-12-17T23:49:16.466095Z",
          "iopub.status.idle": "2021-12-17T23:49:16.470905Z",
          "shell.execute_reply.started": "2021-12-17T23:49:16.466044Z",
          "shell.execute_reply": "2021-12-17T23:49:16.470123Z"
        },
        "trusted": true,
        "id": "868h81bIap9i"
      },
      "execution_count": 28,
      "outputs": []
    },
    {
      "cell_type": "code",
      "source": [
        "!pip install  jiwer"
      ],
      "metadata": {
        "execution": {
          "iopub.status.busy": "2021-12-17T23:49:17.503145Z",
          "iopub.execute_input": "2021-12-17T23:49:17.503398Z",
          "iopub.status.idle": "2021-12-17T23:49:26.719151Z",
          "shell.execute_reply.started": "2021-12-17T23:49:17.503368Z",
          "shell.execute_reply": "2021-12-17T23:49:26.718344Z"
        },
        "trusted": true,
        "id": "5fBLyDdNap9i",
        "colab": {
          "base_uri": "https://localhost:8080/"
        },
        "outputId": "ee00b685-e9e5-4d40-cee5-0f7a5fe5d627"
      },
      "execution_count": 29,
      "outputs": [
        {
          "output_type": "stream",
          "name": "stdout",
          "text": [
            "Requirement already satisfied: jiwer in /usr/local/lib/python3.10/dist-packages (3.0.3)\n",
            "Requirement already satisfied: click<9.0.0,>=8.1.3 in /usr/local/lib/python3.10/dist-packages (from jiwer) (8.1.7)\n",
            "Requirement already satisfied: rapidfuzz<4,>=3 in /usr/local/lib/python3.10/dist-packages (from jiwer) (3.3.1)\n"
          ]
        }
      ]
    },
    {
      "cell_type": "code",
      "source": [
        "from datasets import load_metric\n",
        "wer_metric = load_metric(\"wer\")"
      ],
      "metadata": {
        "execution": {
          "iopub.status.busy": "2021-12-17T23:49:56.05379Z",
          "iopub.execute_input": "2021-12-17T23:49:56.054531Z",
          "iopub.status.idle": "2021-12-17T23:49:56.831878Z",
          "shell.execute_reply.started": "2021-12-17T23:49:56.054485Z",
          "shell.execute_reply": "2021-12-17T23:49:56.831233Z"
        },
        "trusted": true,
        "id": "jEMhdwqGap9j"
      },
      "execution_count": 30,
      "outputs": []
    },
    {
      "cell_type": "code",
      "source": [
        "import numpy as np\n",
        "def compute_metrics(pred):\n",
        "    pred_logits = pred.predictions\n",
        "    pred_ids = np.argmax(pred_logits, axis=-1)\n",
        "\n",
        "    pred.label_ids[pred.label_ids == -100] = processor.tokenizer.pad_token_id\n",
        "\n",
        "    pred_str = processor.batch_decode(pred_ids)\n",
        "    # we do not want to group tokens when computing the metrics\n",
        "    label_str = processor.batch_decode(pred.label_ids, group_tokens=False)\n",
        "\n",
        "    wer = wer_metric.compute(predictions=pred_str, references=label_str)\n",
        "\n",
        "    return {\"wer\": wer}"
      ],
      "metadata": {
        "execution": {
          "iopub.status.busy": "2021-12-17T23:49:58.444315Z",
          "iopub.execute_input": "2021-12-17T23:49:58.444762Z",
          "iopub.status.idle": "2021-12-17T23:49:58.450752Z",
          "shell.execute_reply.started": "2021-12-17T23:49:58.444725Z",
          "shell.execute_reply": "2021-12-17T23:49:58.450056Z"
        },
        "trusted": true,
        "id": "yh2V_0S-ap9j"
      },
      "execution_count": 31,
      "outputs": []
    },
    {
      "cell_type": "code",
      "source": [
        "from transformers import Wav2Vec2ForCTC\n",
        "\n",
        "model = Wav2Vec2ForCTC.from_pretrained(\n",
        "    \"facebook/wav2vec2-xls-r-300m\",\n",
        "    attention_dropout=0.0,\n",
        "    hidden_dropout=0.0,\n",
        "    feat_proj_dropout=0.0,\n",
        "    mask_time_prob=0.05,\n",
        "    layerdrop=0.0,\n",
        "    ctc_loss_reduction=\"mean\",\n",
        "    pad_token_id=processor.tokenizer.pad_token_id,\n",
        "    vocab_size=len(processor.tokenizer),\n",
        ")\n"
      ],
      "metadata": {
        "colab": {
          "base_uri": "https://localhost:8080/"
        },
        "id": "I2Ye8UZg5tK5",
        "outputId": "9d3959b3-5b62-40d5-d3e8-d1567e957a96"
      },
      "execution_count": 32,
      "outputs": [
        {
          "output_type": "stream",
          "name": "stderr",
          "text": [
            "Some weights of Wav2Vec2ForCTC were not initialized from the model checkpoint at facebook/wav2vec2-xls-r-300m and are newly initialized: ['lm_head.weight', 'lm_head.bias']\n",
            "You should probably TRAIN this model on a down-stream task to be able to use it for predictions and inference.\n"
          ]
        }
      ]
    },
    {
      "cell_type": "code",
      "source": [
        "model.freeze_feature_extractor()"
      ],
      "metadata": {
        "execution": {
          "iopub.status.busy": "2021-12-17T23:51:06.968162Z",
          "iopub.execute_input": "2021-12-17T23:51:06.968703Z",
          "iopub.status.idle": "2021-12-17T23:51:06.973199Z",
          "shell.execute_reply.started": "2021-12-17T23:51:06.968645Z",
          "shell.execute_reply": "2021-12-17T23:51:06.972525Z"
        },
        "trusted": true,
        "id": "k2EYx9KLap9k"
      },
      "execution_count": 33,
      "outputs": []
    },
    {
      "cell_type": "code",
      "source": [
        "torch.cuda.is_available()"
      ],
      "metadata": {
        "execution": {
          "iopub.status.busy": "2021-12-17T23:51:08.967472Z",
          "iopub.execute_input": "2021-12-17T23:51:08.968009Z",
          "iopub.status.idle": "2021-12-17T23:51:09.016354Z",
          "shell.execute_reply.started": "2021-12-17T23:51:08.967971Z",
          "shell.execute_reply": "2021-12-17T23:51:09.015402Z"
        },
        "trusted": true,
        "id": "Rc1bJZZdap9l",
        "colab": {
          "base_uri": "https://localhost:8080/"
        },
        "outputId": "392e9acf-5dd2-4c7a-cc8a-1878673d150d"
      },
      "execution_count": 34,
      "outputs": [
        {
          "output_type": "execute_result",
          "data": {
            "text/plain": [
              "True"
            ]
          },
          "metadata": {},
          "execution_count": 34
        }
      ]
    },
    {
      "cell_type": "code",
      "source": [
        "from transformers import TrainingArguments\n",
        "\n",
        "training_args = TrainingArguments(\n",
        "  output_dir=\"/content/fongbe\",\n",
        "  group_by_length=True,\n",
        "  per_device_train_batch_size=3,\n",
        "  evaluation_strategy=\"steps\",\n",
        "  num_train_epochs=3,\n",
        "  fp16=True,\n",
        "  save_steps=500,\n",
        "  eval_steps=500,\n",
        "  logging_steps=500,\n",
        "  learning_rate=1e-4,\n",
        "  weight_decay=0.005,\n",
        "  warmup_steps=1000,\n",
        "  save_total_limit=3,\n",
        "  report_to='wandb'\n",
        ")"
      ],
      "metadata": {
        "execution": {
          "iopub.status.busy": "2021-12-17T23:51:10.159245Z",
          "iopub.execute_input": "2021-12-17T23:51:10.159974Z",
          "iopub.status.idle": "2021-12-17T23:51:10.186612Z",
          "shell.execute_reply.started": "2021-12-17T23:51:10.159922Z",
          "shell.execute_reply": "2021-12-17T23:51:10.185984Z"
        },
        "trusted": true,
        "id": "OeVscKudap9l"
      },
      "execution_count": 40,
      "outputs": []
    },
    {
      "cell_type": "code",
      "source": [
        "from transformers import Trainer\n",
        "\n",
        "trainer = Trainer(\n",
        "    model=model,\n",
        "    data_collator=data_collator,\n",
        "    args=training_args,\n",
        "    compute_metrics=compute_metrics,\n",
        "    train_dataset=fongbe_prepared[\"train\"],\n",
        "    eval_dataset=fongbe_prepared[\"test\"],\n",
        "    tokenizer=processor.feature_extractor,\n",
        ")"
      ],
      "metadata": {
        "execution": {
          "iopub.status.busy": "2021-12-17T23:51:11.436023Z",
          "iopub.execute_input": "2021-12-17T23:51:11.436319Z",
          "iopub.status.idle": "2021-12-17T23:51:17.270294Z",
          "shell.execute_reply.started": "2021-12-17T23:51:11.436278Z",
          "shell.execute_reply": "2021-12-17T23:51:17.269519Z"
        },
        "trusted": true,
        "id": "G0H1bGbIap9l"
      },
      "execution_count": 41,
      "outputs": []
    },
    {
      "cell_type": "code",
      "source": [
        "trainer.train()"
      ],
      "metadata": {
        "execution": {
          "iopub.status.busy": "2021-12-17T23:51:18.828191Z",
          "iopub.execute_input": "2021-12-17T23:51:18.828734Z"
        },
        "trusted": true,
        "id": "Jqj-2yb3ap9t",
        "colab": {
          "base_uri": "https://localhost:8080/",
          "height": 811
        },
        "outputId": "06259daa-8f78-4dde-ae6d-d92d0ceaae4e"
      },
      "execution_count": 42,
      "outputs": [
        {
          "output_type": "display_data",
          "data": {
            "text/plain": [
              "<IPython.core.display.Javascript object>"
            ],
            "application/javascript": [
              "\n",
              "        window._wandbApiKey = new Promise((resolve, reject) => {\n",
              "            function loadScript(url) {\n",
              "            return new Promise(function(resolve, reject) {\n",
              "                let newScript = document.createElement(\"script\");\n",
              "                newScript.onerror = reject;\n",
              "                newScript.onload = resolve;\n",
              "                document.body.appendChild(newScript);\n",
              "                newScript.src = url;\n",
              "            });\n",
              "            }\n",
              "            loadScript(\"https://cdn.jsdelivr.net/npm/postmate/build/postmate.min.js\").then(() => {\n",
              "            const iframe = document.createElement('iframe')\n",
              "            iframe.style.cssText = \"width:0;height:0;border:none\"\n",
              "            document.body.appendChild(iframe)\n",
              "            const handshake = new Postmate({\n",
              "                container: iframe,\n",
              "                url: 'https://wandb.ai/authorize'\n",
              "            });\n",
              "            const timeout = setTimeout(() => reject(\"Couldn't auto authenticate\"), 5000)\n",
              "            handshake.then(function(child) {\n",
              "                child.on('authorize', data => {\n",
              "                    clearTimeout(timeout)\n",
              "                    resolve(data)\n",
              "                });\n",
              "            });\n",
              "            })\n",
              "        });\n",
              "    "
            ]
          },
          "metadata": {}
        },
        {
          "output_type": "stream",
          "name": "stderr",
          "text": [
            "\u001b[34m\u001b[1mwandb\u001b[0m: Logging into wandb.ai. (Learn how to deploy a W&B server locally: https://wandb.me/wandb-server)\n",
            "\u001b[34m\u001b[1mwandb\u001b[0m: You can find your API key in your browser here: https://wandb.ai/authorize\n",
            "wandb: Paste an API key from your profile and hit enter, or press ctrl+c to quit:"
          ]
        },
        {
          "name": "stdout",
          "output_type": "stream",
          "text": [
            " ··········\n"
          ]
        },
        {
          "output_type": "stream",
          "name": "stderr",
          "text": [
            "\u001b[34m\u001b[1mwandb\u001b[0m: Appending key for api.wandb.ai to your netrc file: /root/.netrc\n"
          ]
        },
        {
          "output_type": "display_data",
          "data": {
            "text/plain": [
              "<IPython.core.display.HTML object>"
            ],
            "text/html": [
              "Tracking run with wandb version 0.15.11"
            ]
          },
          "metadata": {}
        },
        {
          "output_type": "display_data",
          "data": {
            "text/plain": [
              "<IPython.core.display.HTML object>"
            ],
            "text/html": [
              "Run data is saved locally in <code>/content/wandb/run-20230928_165051-st2bkamj</code>"
            ]
          },
          "metadata": {}
        },
        {
          "output_type": "display_data",
          "data": {
            "text/plain": [
              "<IPython.core.display.HTML object>"
            ],
            "text/html": [
              "Syncing run <strong><a href='https://wandb.ai/utech/huggingface/runs/st2bkamj' target=\"_blank\">brisk-sun-1</a></strong> to <a href='https://wandb.ai/utech/huggingface' target=\"_blank\">Weights & Biases</a> (<a href='https://wandb.me/run' target=\"_blank\">docs</a>)<br/>"
            ]
          },
          "metadata": {}
        },
        {
          "output_type": "display_data",
          "data": {
            "text/plain": [
              "<IPython.core.display.HTML object>"
            ],
            "text/html": [
              " View project at <a href='https://wandb.ai/utech/huggingface' target=\"_blank\">https://wandb.ai/utech/huggingface</a>"
            ]
          },
          "metadata": {}
        },
        {
          "output_type": "display_data",
          "data": {
            "text/plain": [
              "<IPython.core.display.HTML object>"
            ],
            "text/html": [
              " View run at <a href='https://wandb.ai/utech/huggingface/runs/st2bkamj' target=\"_blank\">https://wandb.ai/utech/huggingface/runs/st2bkamj</a>"
            ]
          },
          "metadata": {}
        },
        {
          "output_type": "display_data",
          "data": {
            "text/plain": [
              "<IPython.core.display.HTML object>"
            ],
            "text/html": [
              "\n",
              "    <div>\n",
              "      \n",
              "      <progress value='8235' max='8235' style='width:300px; height:20px; vertical-align: middle;'></progress>\n",
              "      [8235/8235 1:03:06, Epoch 3/3]\n",
              "    </div>\n",
              "    <table border=\"1\" class=\"dataframe\">\n",
              "  <thead>\n",
              " <tr style=\"text-align: left;\">\n",
              "      <th>Step</th>\n",
              "      <th>Training Loss</th>\n",
              "      <th>Validation Loss</th>\n",
              "      <th>Wer</th>\n",
              "    </tr>\n",
              "  </thead>\n",
              "  <tbody>\n",
              "    <tr>\n",
              "      <td>500</td>\n",
              "      <td>3.761800</td>\n",
              "      <td>2.765115</td>\n",
              "      <td>0.939803</td>\n",
              "    </tr>\n",
              "    <tr>\n",
              "      <td>1000</td>\n",
              "      <td>2.214600</td>\n",
              "      <td>1.059409</td>\n",
              "      <td>0.668223</td>\n",
              "    </tr>\n",
              "    <tr>\n",
              "      <td>1500</td>\n",
              "      <td>1.097500</td>\n",
              "      <td>0.793101</td>\n",
              "      <td>0.537450</td>\n",
              "    </tr>\n",
              "    <tr>\n",
              "      <td>2000</td>\n",
              "      <td>0.848600</td>\n",
              "      <td>0.705940</td>\n",
              "      <td>0.493340</td>\n",
              "    </tr>\n",
              "    <tr>\n",
              "      <td>2500</td>\n",
              "      <td>0.747000</td>\n",
              "      <td>0.722555</td>\n",
              "      <td>0.476042</td>\n",
              "    </tr>\n",
              "    <tr>\n",
              "      <td>3000</td>\n",
              "      <td>0.677300</td>\n",
              "      <td>0.669860</td>\n",
              "      <td>0.410223</td>\n",
              "    </tr>\n",
              "    <tr>\n",
              "      <td>3500</td>\n",
              "      <td>0.597600</td>\n",
              "      <td>0.696166</td>\n",
              "      <td>0.379519</td>\n",
              "    </tr>\n",
              "    <tr>\n",
              "      <td>4000</td>\n",
              "      <td>0.529900</td>\n",
              "      <td>0.697688</td>\n",
              "      <td>0.374935</td>\n",
              "    </tr>\n",
              "    <tr>\n",
              "      <td>4500</td>\n",
              "      <td>0.513900</td>\n",
              "      <td>0.743582</td>\n",
              "      <td>0.372427</td>\n",
              "    </tr>\n",
              "    <tr>\n",
              "      <td>5000</td>\n",
              "      <td>0.472800</td>\n",
              "      <td>0.638419</td>\n",
              "      <td>0.307905</td>\n",
              "    </tr>\n",
              "    <tr>\n",
              "      <td>5500</td>\n",
              "      <td>0.469500</td>\n",
              "      <td>0.647155</td>\n",
              "      <td>0.297094</td>\n",
              "    </tr>\n",
              "    <tr>\n",
              "      <td>6000</td>\n",
              "      <td>0.396500</td>\n",
              "      <td>0.697567</td>\n",
              "      <td>0.284034</td>\n",
              "    </tr>\n",
              "    <tr>\n",
              "      <td>6500</td>\n",
              "      <td>0.351400</td>\n",
              "      <td>0.661653</td>\n",
              "      <td>0.272185</td>\n",
              "    </tr>\n",
              "    <tr>\n",
              "      <td>7000</td>\n",
              "      <td>0.325900</td>\n",
              "      <td>0.678966</td>\n",
              "      <td>0.273655</td>\n",
              "    </tr>\n",
              "    <tr>\n",
              "      <td>7500</td>\n",
              "      <td>0.295800</td>\n",
              "      <td>0.670755</td>\n",
              "      <td>0.256011</td>\n",
              "    </tr>\n",
              "    <tr>\n",
              "      <td>8000</td>\n",
              "      <td>0.287400</td>\n",
              "      <td>0.677142</td>\n",
              "      <td>0.242000</td>\n",
              "    </tr>\n",
              "  </tbody>\n",
              "</table><p>"
            ]
          },
          "metadata": {}
        },
        {
          "output_type": "execute_result",
          "data": {
            "text/plain": [
              "TrainOutput(global_step=8235, training_loss=0.8344562403129387, metrics={'train_runtime': 3839.7151, 'train_samples_per_second': 6.433, 'train_steps_per_second': 2.145, 'total_flos': 1.9122140152668157e+18, 'train_loss': 0.8344562403129387, 'epoch': 3.0})"
            ]
          },
          "metadata": {},
          "execution_count": 42
        }
      ]
    },
    {
      "cell_type": "code",
      "source": [
        "!git config --global credential.helper store\n",
        "!huggingface-cli login"
      ],
      "metadata": {
        "colab": {
          "base_uri": "https://localhost:8080/"
        },
        "id": "Wr8G1kZc53qg",
        "outputId": "46a6afca-69ba-48bb-a93a-1bd9bb597cde"
      },
      "execution_count": 44,
      "outputs": [
        {
          "output_type": "stream",
          "name": "stdout",
          "text": [
            "\n",
            "    _|    _|  _|    _|    _|_|_|    _|_|_|  _|_|_|  _|      _|    _|_|_|      _|_|_|_|    _|_|      _|_|_|  _|_|_|_|\n",
            "    _|    _|  _|    _|  _|        _|          _|    _|_|    _|  _|            _|        _|    _|  _|        _|\n",
            "    _|_|_|_|  _|    _|  _|  _|_|  _|  _|_|    _|    _|  _|  _|  _|  _|_|      _|_|_|    _|_|_|_|  _|        _|_|_|\n",
            "    _|    _|  _|    _|  _|    _|  _|    _|    _|    _|    _|_|  _|    _|      _|        _|    _|  _|        _|\n",
            "    _|    _|    _|_|      _|_|_|    _|_|_|  _|_|_|  _|      _|    _|_|_|      _|        _|    _|    _|_|_|  _|_|_|_|\n",
            "    \n",
            "    A token is already saved on your machine. Run `huggingface-cli whoami` to get more information or `huggingface-cli logout` if you want to log out.\n",
            "    Setting a new token will erase the existing one.\n",
            "    To login, `huggingface_hub` requires a token generated from https://huggingface.co/settings/tokens .\n",
            "Token: \n",
            "Add token as git credential? (Y/n) Y\n",
            "Token is valid (permission: write).\n",
            "Your token has been saved in your configured git credential helpers (store).\n",
            "Your token has been saved to /root/.cache/huggingface/token\n",
            "Login successful\n"
          ]
        }
      ]
    },
    {
      "cell_type": "code",
      "source": [
        "# Téléversez le modèle et le processeur sur Hugging Face\n",
        "model.push_to_hub(\"billfass/fongbe_asr_model\")\n",
        "processor.push_to_hub(\"billfass/fongbe_asr_model\")"
      ],
      "metadata": {
        "colab": {
          "base_uri": "https://localhost:8080/"
        },
        "id": "a4ph4fek7lLl",
        "outputId": "830ac9b5-d1c7-4930-d633-99a248d5b0aa"
      },
      "execution_count": 46,
      "outputs": [
        {
          "output_type": "execute_result",
          "data": {
            "text/plain": [
              "CommitInfo(commit_url='https://huggingface.co/billfass/fongbe_asr_model/commit/e6b3e13048ba9cce377cad222832132fca2f2329', commit_message='Upload processor', commit_description='', oid='e6b3e13048ba9cce377cad222832132fca2f2329', pr_url=None, pr_revision=None, pr_num=None)"
            ]
          },
          "metadata": {},
          "execution_count": 46
        }
      ]
    }
  ]
}